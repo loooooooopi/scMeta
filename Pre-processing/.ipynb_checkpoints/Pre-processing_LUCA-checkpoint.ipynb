{
 "cells": [
  {
   "cell_type": "markdown",
   "id": "fd53fbef-448a-438c-ac3d-5beb6ebae063",
   "metadata": {},
   "source": [
    "# Load library"
   ]
  },
  {
   "cell_type": "code",
   "execution_count": null,
   "id": "05369b56-2fbb-496e-9dd3-fba2f02b83ce",
   "metadata": {},
   "outputs": [],
   "source": [
    "import scanpy as sc\n",
    "import pandas as pd\n",
    "import numpy as np\n",
    "import matplotlib.pyplot as plt\n",
    "import sklearn as skl\n",
    "import anndata as ann\n",
    "import random, os\n",
    "from scipy.stats import pearsonr as pr\n",
    "from sklearn.metrics import mean_squared_error as mse\n",
    "from sklearn.metrics import roc_auc_score\n",
    "from sklearn.metrics import accuracy_score\n",
    "from sklearn.metrics import f1_score as f1\n",
    "from sklearn.metrics import precision_recall_curve as prc\n",
    "from sklearn.metrics import silhouette_score as sil\n",
    "from sklearn.metrics import auc\n",
    "import matplotlib.pyplot as plt\n",
    "import seaborn as sns\n",
    "from sklearn.metrics import precision_score, recall_score, average_precision_score\n",
    "from sklearn.metrics import silhouette_score\n",
    "from torch_geometric.nn import TransformerConv\n",
    "from torch_geometric.data import Data\n",
    "import psutil\n",
    "import os, sys\n",
    "import gc\n",
    "import scipy.sparse as sp\n",
    "from harmony import harmonize\n",
    "from tqdm import tqdm\n",
    "import h5py"
   ]
  },
  {
   "cell_type": "code",
   "execution_count": null,
   "id": "b9e0bb00-057e-49f2-82e2-5d511ec46372",
   "metadata": {},
   "outputs": [],
   "source": [
    "sc.set_figure_params(dpi=200)"
   ]
  },
  {
   "cell_type": "markdown",
   "id": "5077bed2-d53c-4981-9806-5d24252b8bdf",
   "metadata": {},
   "source": [
    "# General processing functinos"
   ]
  },
  {
   "cell_type": "code",
   "execution_count": null,
   "id": "cefe8423-779d-42a5-b21e-76681d9f3523",
   "metadata": {},
   "outputs": [],
   "source": [
    "def whats_memory_eater():\n",
    "    # Build reverse map of object id -> variable name from globals\n",
    "    name_map = {id(obj): name for name, obj in globals().items()}\n",
    "\n",
    "    # Get all tracked objects\n",
    "    all_objects = gc.get_objects()\n",
    "\n",
    "    # Safely get size and match variable name\n",
    "    sizes = []\n",
    "    for obj in all_objects:\n",
    "        try:\n",
    "            size = sys.getsizeof(obj)\n",
    "            obj_id = id(obj)\n",
    "            name = name_map.get(obj_id, None)\n",
    "            sizes.append((size, type(obj), name, repr(obj)[:100]))\n",
    "        except Exception:\n",
    "            continue\n",
    "\n",
    "    # Sort and print top 10\n",
    "    sizes.sort(reverse=True, key=lambda x: x[0])\n",
    "\n",
    "    for size, obj_type, name, preview in sizes[:10]:\n",
    "        print(f\"Size: {size / 1024**3} GB | Type: {obj_type} | Name: {name} | Object: {preview}\")\n"
   ]
  },
  {
   "cell_type": "code",
   "execution_count": null,
   "id": "35a44fa4-4352-452d-8eb1-889f7375e224",
   "metadata": {},
   "outputs": [],
   "source": [
    "def memory_usgae():\n",
    "    gc.collect()\n",
    "    process = psutil.Process(os.getpid())\n",
    "    memory_gb = process.memory_info().rss / 1024**3  # in GB\n",
    "\n",
    "    print(f\"Current memory usage: {memory_gb:.2f} GB\")"
   ]
  },
  {
   "cell_type": "code",
   "execution_count": null,
   "id": "9f9e8f71-fa70-4bae-b672-d7d470934437",
   "metadata": {},
   "outputs": [],
   "source": [
    "def pca_and_umap(adata):\n",
    "    sc.tl.pca(adata, svd_solver=\"arpack\")\n",
    "    # sc.pl.pca(ad, color='source')\n",
    "    sc.pp.neighbors(adata)\n",
    "    sc.tl.umap(adata)"
   ]
  },
  {
   "cell_type": "code",
   "execution_count": null,
   "id": "aed5de4f-7437-4ded-979e-40fa4fd05f91",
   "metadata": {},
   "outputs": [],
   "source": [
    "def load_and_preprocess_project(base_path, Project_ID, metadata_idx_key='Cell', Primary_or_Metastatic = 'Primary', further_pre = False, file_prefix= None):\n",
    "    \"\"\"\n",
    "    Load and preprocess a single scRNA-seq project with standard filtering and UMAP.\n",
    "    \n",
    "    Assumes the base_path contains:\n",
    "        - One .mtx file (count matrix)\n",
    "        - One barcodes.csv\n",
    "        - One features.csv\n",
    "        - One meta_all.csv\n",
    "    \"\"\"\n",
    "    # Automatically detect files\n",
    "    files = os.listdir(base_path)\n",
    "    metadata_file = None\n",
    "    \n",
    "    if file_prefix == None:\n",
    "\n",
    "        mtx_file = [os.path.join(base_path, f) for f in files if f.endswith('.mtx')][0]\n",
    "        print(mtx_file)\n",
    "        barcodes_file = [os.path.join(base_path, f) for f in files if 'barcode' in f][0]\n",
    "        print(barcodes_file)\n",
    "        try:\n",
    "            features_file = [os.path.join(base_path, f) for f in files if 'feature' in f][0]\n",
    "        except:\n",
    "            features_file = [os.path.join(base_path, f) for f in files if 'genes' in f][0]\n",
    "        print(features_file)\n",
    "        metadata_file = [os.path.join(base_path, f) for f in files if 'meta' in f][0]\n",
    "        print(metadata_file)\n",
    "    else:\n",
    "        for f in files:\n",
    "            if not f.startswith(file_prefix):\n",
    "                continue\n",
    "            if f.endswith('mtx'):\n",
    "                mtx_file = os.path.join(base_path, f)\n",
    "                print(mtx_file)\n",
    "            elif 'barcode' in f:\n",
    "                barcodes_file = os.path.join(base_path, f)\n",
    "                print(barcodes_file)\n",
    "            elif 'feature' in f:\n",
    "                features_file = os.path.join(base_path, f)\n",
    "                print(features_file)\n",
    "            elif 'genes' in f:\n",
    "                features_file = os.path.join(base_path, f)\n",
    "                print(features_file)\n",
    "            elif 'meta' in f:\n",
    "                metadata_file = os.path.join(base_path, f)\n",
    "                print(metadata_file)\n",
    "            else:\n",
    "                continue\n",
    "    # print(metadata_file)\n",
    "    print(f\"Loading: {mtx_file}\")\n",
    "\n",
    "    # Load matrix\n",
    "    adata = sc.read_mtx(mtx_file)\n",
    "    adata = adata.transpose()  # Important: make cells as rows, genes as columns\n",
    "\n",
    "    # Load barcodes and features\n",
    "    if barcodes_file.endswith('tsv'):\n",
    "        barcodes = pd.read_csv(barcodes_file, sep='\\t', header=None)  # no header=None here\n",
    "    else:\n",
    "        barcodes = pd.read_csv(barcodes_file)  # no header=None here\n",
    "    display(barcodes)\n",
    "    \n",
    "    if features_file.endswith('tsv'):\n",
    "        genes = pd.read_csv(features_file, sep='\\t', header=None)  # no header=None here\n",
    "    else:\n",
    "        genes = pd.read_csv(features_file)  # no header=None here\n",
    "    display(genes)\n",
    "\n",
    "    # Assign barcodes and gene names (convert to string)\n",
    "    if barcodes.shape[1] > 1:\n",
    "        adata.obs_names = barcodes.iloc[:, 1].astype(str).values\n",
    "    else:\n",
    "        adata.obs_names = barcodes.iloc[:, 0].astype(str).values\n",
    "    \n",
    "    if genes.shape[1] > 1:\n",
    "        adata.var_names = genes.iloc[:, 1].astype(str).values\n",
    "    else:\n",
    "        adata.var_names = genes.iloc[:, 0].astype(str).values\n",
    "    # adata.var_names = genes.iloc[:, 0].astype(str).values\n",
    "    display(adata.to_df())\n",
    "\n",
    "    # Load and merge metadata\n",
    "    # if metadata_file\n",
    "    try:\n",
    "        if metadata_file.endswith('tsv'):\n",
    "            metadata = pd.read_csv(metadata_file, sep='\\t')\n",
    "        elif metadata_file.endswith('csv'):\n",
    "            metadata = pd.read_csv(metadata_file)\n",
    "        metadata.index = metadata[metadata_idx_key]\n",
    "        adata.obs = adata.obs.join(metadata, how='left')\n",
    "    except:\n",
    "        pass         \n",
    "\n",
    "    # Add project info\n",
    "    # project_name = os.path.basename(base_path)\n",
    "    # adata.obs['Project'] = project_name\n",
    "    \n",
    "    # ======== Standard preprocessing ========\n",
    "\n",
    "    # Calculate QC metrics\n",
    "    adata.var['mt'] = adata.var_names.str.startswith('MT-')\n",
    "    sc.pp.calculate_qc_metrics(adata, qc_vars=['mt'], percent_top=None, log1p=False, inplace=True)\n",
    "\n",
    "    # Standard cell filtering\n",
    "    adata = adata[(adata.obs['n_genes_by_counts'] >= 200) & \n",
    "                  (adata.obs['n_genes_by_counts'] <= 5000) & \n",
    "                  (adata.obs['pct_counts_mt'] <= 20)].copy()\n",
    "    \n",
    "    adata.obs['Project_ID'] = Project_ID\n",
    "    adata.obs['Primary_or_Metastatic'] = Primary_or_Metastatic\n",
    "    \n",
    "    # Normalize and log transform\n",
    "    adata.raw = adata.copy()\n",
    "    \n",
    "    if further_pre:\n",
    "        sc.pp.normalize_total(adata, target_sum=1e4)\n",
    "        sc.pp.log1p(adata)\n",
    "\n",
    "        # Highly variable genes\n",
    "        # sc.pp.highly_variable_genes(adata, min_mean=0.0125, max_mean=3, min_disp=0.5)\n",
    "\n",
    "        # Keep only HVGs\n",
    "        # adata = adata[:, adata.var.highly_variable]\n",
    "\n",
    "        # Scale\n",
    "        sc.pp.scale(adata, max_value=10)\n",
    "\n",
    "        # PCA\n",
    "        sc.tl.pca(adata, svd_solver='arpack')\n",
    "\n",
    "        # Neighbors\n",
    "        sc.pp.neighbors(adata, n_neighbors=15, n_pcs=40)\n",
    "\n",
    "        # UMAP\n",
    "        sc.tl.umap(adata)\n",
    "\n",
    "    print(f\"Finished processing {Project_ID}. Shape: {adata.shape}\")\n",
    "\n",
    "    return adata\n"
   ]
  },
  {
   "cell_type": "code",
   "execution_count": null,
   "id": "575d6743-7c41-4d3c-bd12-86615f8f286c",
   "metadata": {},
   "outputs": [],
   "source": [
    "def filter_and_recompute(adata, celltype_col, celltypes_to_keep, further_pre = False):\n",
    "    \"\"\"\n",
    "    Filters an AnnData object to keep only specified cell types, \n",
    "    then recalculates PCA, neighbors, and UMAP.\n",
    "\n",
    "    Parameters:\n",
    "    - adata: AnnData object\n",
    "    - celltype_col: str, the column in adata.obs containing cell type annotations\n",
    "    - celltypes_to_keep: list of str, the cell types you want to keep\n",
    "\n",
    "    Returns:\n",
    "    - filtered and recalculated AnnData object\n",
    "    \"\"\"\n",
    "    # Step 1: Filter cells\n",
    "    print(f\"Original shape: {adata.shape}\")\n",
    "    adata_filtered = adata[adata.obs[celltype_col].isin(set(celltypes_to_keep))].copy()\n",
    "    print(f\"Filtered shape: {adata_filtered.shape}\")\n",
    "\n",
    "    # Step 2: Recalculate PCA and UMAP\n",
    "    # (Assumes data is already normalized and scaled)\n",
    "    if further_pre:\n",
    "        sc.tl.pca(adata_filtered, svd_solver='arpack')\n",
    "        sc.pp.neighbors(adata_filtered, n_neighbors=15, n_pcs=40)\n",
    "        sc.tl.umap(adata_filtered)\n",
    "\n",
    "    print(\"Recalculated PCA and UMAP.\")\n",
    "    return adata_filtered"
   ]
  },
  {
   "cell_type": "code",
   "execution_count": null,
   "id": "6b97dda2-1241-4b46-bf40-e57a49173752",
   "metadata": {},
   "outputs": [],
   "source": [
    "def recompute_pca_and_umap(adata):\n",
    "    \"\"\"\n",
    "    Filters an AnnData object to keep only specified cell types, \n",
    "    then recalculates PCA, neighbors, and UMAP.\n",
    "\n",
    "    Parameters:\n",
    "    - adata: AnnData object\n",
    "    - celltype_col: str, the column in adata.obs containing cell type annotations\n",
    "    - celltypes_to_keep: list of str, the cell types you want to keep\n",
    "\n",
    "    Returns:\n",
    "    - filtered and recalculated AnnData object\n",
    "    \"\"\"\n",
    "    sc.tl.pca(adata, svd_solver='arpack')\n",
    "    sc.pp.neighbors(adata, n_neighbors=15, n_pcs=40)\n",
    "    sc.tl.umap(adata)\n",
    "\n",
    "    print(\"Recalculated PCA and UMAP.\")\n",
    "    return adata"
   ]
  },
  {
   "cell_type": "code",
   "execution_count": null,
   "id": "0e0c7714-3580-4d5c-8791-1e5075ce290b",
   "metadata": {},
   "outputs": [],
   "source": [
    "def reprocess_from_raw_layer(adata, Project_ID, Primary_or_Metastatic = 'Primary', further_pre = False):\n",
    "    \"\"\"\n",
    "    Reprocess a Scanpy AnnData object using its raw layer (e.g., from a published .h5ad).\n",
    "    This includes normalization, HVG selection, PCA, neighbors, and UMAP.\n",
    "\n",
    "    Parameters:\n",
    "    - adata: AnnData object, must have .raw set\n",
    "\n",
    "    Returns:\n",
    "    - Processed AnnData object (modifies in place)\n",
    "    \"\"\"\n",
    "\n",
    "    # Check if raw exists\n",
    "    if adata.raw is None:\n",
    "        raise ValueError(\"AnnData object has no .raw attribute. Cannot proceed with reprocessing.\")\n",
    "\n",
    "    # Extract raw counts\n",
    "    adata.X = adata.raw.X.copy()\n",
    "    adata.var = adata.raw.var.copy()\n",
    "    adata.var_names = adata.raw.var_names.copy()\n",
    "\n",
    "    # Recalculate mitochondrial content\n",
    "    adata.var['mt'] = adata.var_names.str.upper().str.startswith('MT-')\n",
    "    sc.pp.calculate_qc_metrics(adata, qc_vars=['mt'], percent_top=None, log1p=False, inplace=True)\n",
    "\n",
    "    # Standard filtering (optional)\n",
    "    adata = adata[(adata.obs['n_genes_by_counts'] >= 200) &\n",
    "                  (adata.obs['n_genes_by_counts'] <= 5000) &\n",
    "                  (adata.obs['pct_counts_mt'] <= 20)].copy()\n",
    "    \n",
    "    adata.obs['Project_ID'] = Project_ID\n",
    "    adata.obs['Primary_or_Metastatic'] = Primary_or_Metastatic\n",
    "    \n",
    "    if further_pre:\n",
    "        # Normalize and log transform\n",
    "        sc.pp.normalize_total(adata, target_sum=1e4)\n",
    "        sc.pp.log1p(adata)\n",
    "\n",
    "        # HVG selection\n",
    "        # sc.pp.highly_variable_genes(adata, min_mean=0.0125, max_mean=3, min_disp=0.5)\n",
    "        # adata = adata[:, adata.var.highly_variable]\n",
    "\n",
    "        # Scale\n",
    "        sc.pp.scale(adata, max_value=10)\n",
    "\n",
    "        # PCA, neighbors, UMAP\n",
    "        sc.tl.pca(adata, svd_solver='arpack')\n",
    "        sc.pp.neighbors(adata, n_neighbors=15, n_pcs=40)\n",
    "        sc.tl.umap(adata)\n",
    "\n",
    "    print(f\"Reprocessed dataset. Final shape: {adata.shape}\")\n",
    "    return adata\n"
   ]
  },
  {
   "cell_type": "code",
   "execution_count": null,
   "id": "8fa9d350-c027-4a3a-b46c-c1818f1c585c",
   "metadata": {},
   "outputs": [],
   "source": [
    "def reprocess_all(adata, further_pre = True):\n",
    "    \"\"\"\n",
    "    Reprocess a Scanpy AnnData object using its raw layer (e.g., from a published .h5ad).\n",
    "    This includes normalization, HVG selection, PCA, neighbors, and UMAP.\n",
    "\n",
    "    Parameters:\n",
    "    - adata: AnnData object, must have .raw set\n",
    "\n",
    "    Returns:\n",
    "    - Processed AnnData object (modifies in place)\n",
    "    \"\"\"\n",
    "\n",
    "    # Check if raw exists\n",
    "    if adata.raw is None:\n",
    "        raise ValueError(\"AnnData object has no .raw attribute. Cannot proceed with reprocessing.\")\n",
    "\n",
    "    # Extract raw counts\n",
    "    adata.X = adata.raw.X.copy()\n",
    "    adata.var = adata.raw.var.copy()\n",
    "    adata.var_names = adata.raw.var_names.copy()\n",
    "\n",
    "    # Recalculate mitochondrial content\n",
    "    adata.var['mt'] = adata.var_names.str.upper().str.startswith('MT-')\n",
    "    sc.pp.calculate_qc_metrics(adata, qc_vars=['mt'], percent_top=None, log1p=False, inplace=True)\n",
    "    \n",
    "    print('Standard filtering...')\n",
    "    # Standard filtering (optional)\n",
    "    adata = adata[(adata.obs['n_genes_by_counts'] >= 200) &\n",
    "                  (adata.obs['n_genes_by_counts'] <= 5000) &\n",
    "                  (adata.obs['pct_counts_mt'] <= 20)].copy()\n",
    "    \n",
    "    # adata.obs['Project_ID'] = Project_ID\n",
    "    # adata.obs['Primary_or_Metastatic'] = Primary_or_Metastatic\n",
    "    \n",
    "    if further_pre:\n",
    "        # Normalize and log transform\n",
    "        print('Normalizing...')\n",
    "        sc.pp.normalize_total(adata, target_sum=1e4)\n",
    "        sc.pp.log1p(adata)\n",
    "\n",
    "        # HVG selection\n",
    "        # sc.pp.highly_variable_genes(adata, min_mean=0.0125, max_mean=3, min_disp=0.5)\n",
    "        # adata = adata[:, adata.var.highly_variable]\n",
    "        '''\n",
    "        sc.pp.highly_variable_genes(\n",
    "            adata,\n",
    "            flavor=\"seurat_v3\",  # best for batch-aware HVG selection\n",
    "            n_top_genes=2000,\n",
    "            batch_key=\"Final_sample_id\"  # or whatever your batch label column is\n",
    "        )\n",
    "        '''\n",
    "        \n",
    "        # adata = adata[:, adata.var.highly_variable].copy()\n",
    "\n",
    "        # Scale\n",
    "        # print('Scaling...')\n",
    "        # sc.pp.scale(adata, max_value=10)\n",
    "        print('Computing PCA...')\n",
    "        # PCA, neighbors, UMAP\n",
    "        sc.tl.pca(adata, zero_center=False)\n",
    "        \n",
    "        print('Computing neighbors...')\n",
    "        sc.pp.neighbors(adata, n_neighbors=15, n_pcs=40)\n",
    "        \n",
    "        print('Computing UMAP...')\n",
    "        sc.tl.umap(adata)\n",
    "\n",
    "    print(f\"Reprocessed dataset. Final shape: {adata.shape}\")\n",
    "    return adata\n"
   ]
  },
  {
   "cell_type": "markdown",
   "id": "fe019a43-29c6-4faa-8107-7e0fac3957bc",
   "metadata": {},
   "source": [
    "# Lung Cancer (LUCA)"
   ]
  },
  {
   "cell_type": "markdown",
   "id": "d939208c-69ca-490c-9c7f-edf1df03ac2a",
   "metadata": {},
   "source": [
    "## High-resolution single-cell atlas reveals diversity and plasticity of tissue-resident neutrophils in non-small cell lung cancer"
   ]
  },
  {
   "cell_type": "markdown",
   "id": "e871bd79-0746-44ba-8e7a-25b9a36297fb",
   "metadata": {},
   "source": [
    "Paper: https://www.sciencedirect.com/science/article/pii/S1535610822004998?via%3Dihub\n",
    "\n",
    "Data downloaded from: https://cellxgene.cziscience.com/collections/edb893ee-4066-4128-9aec-5eb2b03f8287\n",
    "\n",
    "Link: \n",
    "- Anndata (extended): https://datasets.cellxgene.cziscience.com/80b57568-2621-4911-b4b1-4f2cf5087962.h5ad\n",
    "- Anndata (core): https://datasets.cellxgene.cziscience.com/f27535dc-7902-456d-b94f-024dfe8791c0.h5ad\n"
   ]
  },
  {
   "cell_type": "code",
   "execution_count": null,
   "id": "aced8cb1-1a40-443b-8623-daca1812ba1d",
   "metadata": {},
   "outputs": [],
   "source": [
    "memory_usgae()"
   ]
  },
  {
   "cell_type": "code",
   "execution_count": null,
   "id": "4b56ca0f-a493-4d47-804f-b6343f48108e",
   "metadata": {},
   "outputs": [],
   "source": [
    "ad = sc.read_h5ad('./Data/LUAD/High-resolution_single-cell_atlas.extended.h5ad')\n",
    "ad"
   ]
  },
  {
   "cell_type": "code",
   "execution_count": null,
   "id": "98aa6ce3-33ca-42ad-a7bd-6e79ddd377cb",
   "metadata": {},
   "outputs": [],
   "source": [
    "ad.obs.cell_type.value_counts()"
   ]
  },
  {
   "cell_type": "code",
   "execution_count": null,
   "id": "5e1a13d7-c79f-4538-a06e-481326a376dd",
   "metadata": {},
   "outputs": [],
   "source": [
    "ad = ad[ad.obs.disease!= 'normal']\n",
    "ad"
   ]
  },
  {
   "cell_type": "code",
   "execution_count": null,
   "id": "7c07534a-ddd3-42d4-81f4-50bec029e0e6",
   "metadata": {},
   "outputs": [],
   "source": [
    "ad = filter_and_recompute(ad, \n",
    "                          celltype_col='cell_type', \n",
    "                          celltypes_to_keep=['malignant cell'],\n",
    "                          further_pre=True)\n",
    "ad"
   ]
  },
  {
   "cell_type": "code",
   "execution_count": null,
   "id": "1173971f-caed-4505-b384-8dba33c49cc8",
   "metadata": {
    "tags": []
   },
   "outputs": [],
   "source": [
    "# sc.pl.umap(ad, color='is_primary_data')\n",
    "sc.pl.umap(ad, color='disease')\n",
    "\n",
    "sc.pl.umap(ad, color='tissue')\n",
    "sc.pl.umap(ad, color='cell_type_tumor')\n",
    "sc.pl.umap(ad, color='study')"
   ]
  },
  {
   "cell_type": "code",
   "execution_count": null,
   "id": "01b806a2-b262-4bb5-adf1-88f70888feef",
   "metadata": {},
   "outputs": [],
   "source": [
    "ad.obs['study'].value_counts()"
   ]
  },
  {
   "cell_type": "code",
   "execution_count": null,
   "id": "70593ac8-3c39-4a76-99fd-31e5236fc775",
   "metadata": {},
   "outputs": [],
   "source": [
    "ad.obs['uicc_stage'].value_counts()"
   ]
  },
  {
   "cell_type": "code",
   "execution_count": null,
   "id": "091fc161-1c20-4d04-b1ee-a91f4bbea41b",
   "metadata": {},
   "outputs": [],
   "source": [
    "ad[ad.obs.uicc_stage == 'III'].obs['study'].value_counts()"
   ]
  },
  {
   "cell_type": "code",
   "execution_count": null,
   "id": "3f17de5e-45fe-4eb7-a29b-b6b5bc1cf314",
   "metadata": {},
   "outputs": [],
   "source": [
    "ad = ad[ad.obs.study != 'Wu_Zhou_2021']"
   ]
  },
  {
   "cell_type": "code",
   "execution_count": null,
   "id": "35d1a63d-ba62-4c10-a58b-2a1cf0ad6cd1",
   "metadata": {},
   "outputs": [],
   "source": [
    "primary_or_metastatic = []\n",
    "\n",
    "for _, row in ad.obs.iterrows():\n",
    "    if row['tissue'] != 'lung':\n",
    "        primary_or_metastatic.append('Metastatic')\n",
    "    elif 'IV' in str(row['uicc_stage']):\n",
    "        primary_or_metastatic.append('Metastatic')\n",
    "    elif row['uicc_stage'] == 'III':\n",
    "        primary_or_metastatic.append('Locally advanced')\n",
    "    else:\n",
    "        primary_or_metastatic.append('Primary')\n",
    "\n",
    "ad.obs['Primary_or_Metastatic'] = primary_or_metastatic\n"
   ]
  },
  {
   "cell_type": "code",
   "execution_count": null,
   "id": "34e67301-081a-43b1-80f5-0cb7f70776da",
   "metadata": {},
   "outputs": [],
   "source": [
    "def assign_lung_subtype(row):\n",
    "    if row[\"EGFR_mutation\"] == \"mutated\":\n",
    "        return \"LUCA: EGFR-mutant\"\n",
    "    elif row[\"KRAS_mutation\"] == \"mutated\":\n",
    "        return \"LUCA: KRAS-mutant\"\n",
    "    elif row[\"ALK_mutation\"] == \"mutated\":\n",
    "        return \"LUCA: ALK-rearranged\"\n",
    "    elif row[\"ROS_mutation\"] == \"mutated\":\n",
    "        return \"LUCA: ROS1-rearranged\"\n",
    "    elif row[\"BRAF_mutation\"] == \"mutated\":\n",
    "        return \"LUCA: BRAF-mutant\"\n",
    "    elif row[\"ERBB2_mutation\"] == \"mutated\":\n",
    "        return \"LUCA: ERBB2-mutant\"\n",
    "    elif row[\"TP53_mutation\"] == \"mutated\":\n",
    "        return \"LUCA: TP53-mutant (no driver)\"\n",
    "    else:\n",
    "        return \"LUCA: Unspecified\""
   ]
  },
  {
   "cell_type": "code",
   "execution_count": null,
   "id": "f4a7a767-022c-4159-bec4-b0add711ee50",
   "metadata": {},
   "outputs": [],
   "source": [
    "ad.obs['Project_ID'] = ad.obs['study']\n",
    "\n",
    "ad.obs['Final_cancer_type']  = 'Lung Cancer'\n",
    "ad.obs['Final_histological_subtype'] = [i[2] for i in ad.obs['cell_type_tumor'].str.split(' ')]\n",
    "ad.obs['Final_molecular_subtype'] = ad.obs.apply(assign_lung_subtype, axis=1)\n",
    "ad.obs['Final_tissue'] = ad.obs['tissue'].astype(str).str.capitalize()\n",
    "ad.obs['Final_sample_id'] = ad.obs.donor_id"
   ]
  },
  {
   "cell_type": "code",
   "execution_count": null,
   "id": "1a685679-cdf5-49f4-9be9-842dfee5b662",
   "metadata": {},
   "outputs": [],
   "source": [
    "ad.obs['development_stage']"
   ]
  },
  {
   "cell_type": "code",
   "execution_count": null,
   "id": "7be7f7b4-c32e-47eb-a45b-863e8c00b3ef",
   "metadata": {},
   "outputs": [],
   "source": [
    "import numpy as np\n",
    "\n",
    "def parse_age(val):\n",
    "    val = str(val).strip().lower()\n",
    "    if val == \"unknown\" or val == \"\":\n",
    "        return np.nan\n",
    "    elif \"-\" in val:\n",
    "        try:\n",
    "            return int(val.split(\"-\")[0])\n",
    "        except:\n",
    "            return np.nan\n",
    "    else:\n",
    "        try:\n",
    "            return int(val)\n",
    "        except:\n",
    "            return np.nan\n",
    "\n",
    "ad.obs['Final_patient_age'] = ad.obs['development_stage'].apply(parse_age)\n"
   ]
  },
  {
   "cell_type": "code",
   "execution_count": null,
   "id": "3bbaf210-d4d9-4187-a1fd-e4cf9ed7c464",
   "metadata": {},
   "outputs": [],
   "source": [
    "# add more clinical information\n",
    "ad.obs['Final_patient_stage'] = ad.obs['uicc_stage']\n",
    "# ad.obs['Final_patient_treatment'] = ad.obs['Treatment most recent class']+' '+ad.obs['Treatment status']"
   ]
  },
  {
   "cell_type": "code",
   "execution_count": null,
   "id": "ca86df91-c33b-4804-a317-f40693614a66",
   "metadata": {},
   "outputs": [],
   "source": [
    "ad.obs['Project_ID'].value_counts()"
   ]
  },
  {
   "cell_type": "code",
   "execution_count": null,
   "id": "47662520-32b5-4bd8-9b39-8d97e20519a9",
   "metadata": {},
   "outputs": [],
   "source": [
    "# add more clinical information\n",
    "\n",
    "ad.obs['Final_patient_treatment'] = 'Naïve'"
   ]
  },
  {
   "cell_type": "code",
   "execution_count": null,
   "id": "afc9281e-cca2-4a84-9e5e-e351cfdbec9a",
   "metadata": {},
   "outputs": [],
   "source": [
    "ad.write_h5ad('./Data/Cancer_cell_data/High-resolution_single-cell_atlas.LUCA.h5ad', compression='gzip')"
   ]
  },
  {
   "cell_type": "markdown",
   "id": "5c2ac808-b33e-479f-a538-a455aeb31e3d",
   "metadata": {},
   "source": [
    "## Signatures of plasticity, metastasis, and immunosuppression in an atlas of human small cell lung cancer"
   ]
  },
  {
   "cell_type": "markdown",
   "id": "bc2719b2-ada8-4a68-a7d6-8a7395c7913b",
   "metadata": {},
   "source": [
    "Paper: https://www.sciencedirect.com/science/article/pii/S1535610821004979?via%3Dihub\n",
    "\n",
    "Data downloaded from: https://cellxgene.cziscience.com/collections/62e8f058-9c37-48bc-9200-e767f318a8ec\n",
    "\n",
    "Link: \n",
    "- Anndata: https://datasets.cellxgene.cziscience.com/b9175586-5875-4346-afa2-5f23e15fe16d.h5ad"
   ]
  },
  {
   "cell_type": "code",
   "execution_count": null,
   "id": "6a401520-d93d-4977-b0a0-85d4f029d63a",
   "metadata": {},
   "outputs": [],
   "source": [
    "ad = sc.read_h5ad('./Data/LUAD/HTAN_MSK_SCLC.h5ad')"
   ]
  },
  {
   "cell_type": "code",
   "execution_count": null,
   "id": "def1e3e5-561c-44a4-bedf-6226192046c2",
   "metadata": {},
   "outputs": [],
   "source": [
    "ad"
   ]
  },
  {
   "cell_type": "code",
   "execution_count": null,
   "id": "067c3c69-1a80-40a9-a204-e2044bd4a28b",
   "metadata": {},
   "outputs": [],
   "source": [
    "# re-process the adata\n",
    "ad = reprocess_from_raw_layer(ad, \n",
    "                              Project_ID='HTAN_MSK_SCLC', \n",
    "                              Primary_or_Metastatic='Primary',\n",
    "                              further_pre=False)"
   ]
  },
  {
   "cell_type": "code",
   "execution_count": null,
   "id": "cb13398d-ccd1-486c-bf0e-da8bdf52ad29",
   "metadata": {},
   "outputs": [],
   "source": [
    "for obs in ['batch', 'cell_type_coarse', 'cell_type_fine', 'cell_type_general']:\n",
    "    sc.pl.umap(ad, color=obs)"
   ]
  },
  {
   "cell_type": "code",
   "execution_count": null,
   "id": "7a29667d-c51c-4ccd-b169-4043d4cd5cf0",
   "metadata": {},
   "outputs": [],
   "source": [
    "ad = filter_and_recompute(ad, \n",
    "                          celltype_col='cell_type_fine', \n",
    "                          celltypes_to_keep=['SCLC-A', 'SCLC-N', 'SCLC-P'],\n",
    "                          further_pre=True)\n",
    "ad"
   ]
  },
  {
   "cell_type": "code",
   "execution_count": null,
   "id": "ce2dc090-bddb-4515-8180-92ee879146ab",
   "metadata": {},
   "outputs": [],
   "source": [
    "for obs in ['batch', 'disease', 'histo']:\n",
    "    sc.pl.umap(ad, color=obs)"
   ]
  },
  {
   "cell_type": "code",
   "execution_count": null,
   "id": "ba3c6190-86f3-4d94-aa61-eced210d07d3",
   "metadata": {},
   "outputs": [],
   "source": [
    "patient_clinical_df = pd.read_csv('./Data/LUAD/HTAN_MSK_SCLC.clinical.txt', sep='\\t')\n",
    "# patient_clinical_df = patient_clinical_df[patient_clinical_df['Profiling method'] == 'scRNAseq']\n",
    "patient_clinical_df['Lab ID'] = patient_clinical_df['Lab ID'].str.upper()\n",
    "patient_clinical_df.head()"
   ]
  },
  {
   "cell_type": "code",
   "execution_count": null,
   "id": "f18273b8-18e7-4fe6-aae7-348db10fd8c8",
   "metadata": {},
   "outputs": [],
   "source": [
    "ad.obs['donor_id'] = ad.obs['donor_id'].str.upper()"
   ]
  },
  {
   "cell_type": "code",
   "execution_count": null,
   "id": "774cb85a-9a75-4510-a998-8cddaed35737",
   "metadata": {},
   "outputs": [],
   "source": [
    "merged = ad.obs.reset_index().merge(\n",
    "    patient_clinical_df,\n",
    "    left_on='donor_id',\n",
    "    right_on='Lab ID',\n",
    "    how='left'\n",
    ")\n",
    "\n",
    "# Step 2: Restore original index (cell barcodes)\n",
    "merged = merged.set_index('Cell')\n",
    "\n",
    "# Step 3: Assign back\n",
    "ad.obs = merged\n",
    "ad"
   ]
  },
  {
   "cell_type": "code",
   "execution_count": null,
   "id": "2455eb65-b192-4c58-8dbe-233e2a38784d",
   "metadata": {},
   "outputs": [],
   "source": [
    "ad.obs[ad.obs.tissue == 'lung']['Stage at Dx'].value_counts()"
   ]
  },
  {
   "cell_type": "code",
   "execution_count": null,
   "id": "3f309d4d-4186-4fa3-bf86-8512e0f4ea4d",
   "metadata": {},
   "outputs": [],
   "source": [
    "primary_or_metastatic = []\n",
    "for i in ad.obs.tissue:\n",
    "    if i != 'lung':\n",
    "        primary_or_metastatic.append('Metastatic')\n",
    "    else:\n",
    "        primary_or_metastatic.append('Primary')\n",
    "ad.obs['Primary_or_Metastatic'] = primary_or_metastatic\n",
    "\n",
    "ad.obs['Project_ID'] = 'HTAN_MSK_SCLC'\n",
    "\n",
    "ad.obs['Final_cancer_type']  = 'Lung Cancer'\n",
    "ad.obs['Final_histological_subtype'] = 'SCLC'\n",
    "ad.obs['Final_molecular_subtype'] = 'LUCA: Unspecified'\n",
    "ad.obs['Final_tissue'] = ad.obs['tissue'].astype(str).str.capitalize()\n",
    "ad.obs['Final_sample_id'] = ad.obs.donor_id\n",
    "\n",
    "ad"
   ]
  },
  {
   "cell_type": "code",
   "execution_count": null,
   "id": "28d46dd6-4b50-43db-be1e-743f8653be94",
   "metadata": {},
   "outputs": [],
   "source": [
    "def parse_age(val):\n",
    "    val = str(val).strip().lower()\n",
    "    if val == \"unknown\" or val == \"\":\n",
    "        return np.nan\n",
    "    elif \"-\" in val:\n",
    "        try:\n",
    "            return int(val.split(\"-\")[0])\n",
    "        except:\n",
    "            return np.nan\n",
    "    else:\n",
    "        try:\n",
    "            return int(val)\n",
    "        except:\n",
    "            return np.nan\n",
    "\n",
    "ad.obs['Final_patient_age'] = ad.obs['development_stage'].apply(parse_age)\n"
   ]
  },
  {
   "cell_type": "code",
   "execution_count": null,
   "id": "4ca6d6bb-d2e3-4b24-a4f1-f70f8d4ca062",
   "metadata": {},
   "outputs": [],
   "source": [
    "# add more clinical information\n",
    "# ad.obs['Final_patient_age'] = 'Unknown'\n",
    "ad.obs['Final_patient_stage'] = ad.obs['Stage at Dx']\n",
    "ad.obs['Final_patient_treatment'] = ad.obs['treatment']"
   ]
  },
  {
   "cell_type": "code",
   "execution_count": null,
   "id": "a992dbf1-0606-475e-b1f6-8f172b5aa3cf",
   "metadata": {},
   "outputs": [],
   "source": [
    "ad.write_h5ad('./Data/Cancer_cell_data/Signature_atlas_SCLC.LUCA.h5ad', compression='gzip')"
   ]
  },
  {
   "cell_type": "code",
   "execution_count": null,
   "id": "97ba41cb-faf2-4dc8-bd46-1fda940c7d11",
   "metadata": {},
   "outputs": [],
   "source": [
    "ad"
   ]
  },
  {
   "cell_type": "markdown",
   "id": "2fe697a2-057e-46a3-9f3b-a27776fc60fe",
   "metadata": {
    "tags": []
   },
   "source": [
    "## A pan-cancer blueprint of the heterogeneous tumor microenvironment revealed by single-cell profiling\n"
   ]
  },
  {
   "cell_type": "markdown",
   "id": "b7a1f674-df41-40f9-bc80-7546157eb279",
   "metadata": {},
   "source": [
    "Paper: https://www.nature.com/articles/s41422-020-0355-0#Fig3\n",
    "\n",
    "Data downloaded from: https://lambrechtslab.sites.vib.be/en/pan-cancer-blueprint-tumour-microenvironment-0\n",
    "\n",
    "Link: \n",
    "- Matrix: https://lambrechtslab.sites.vib.be/en/pan-cancer-blueprint-tumour-microenvironment-0 (Lung cancer - Counts Matrix)\n",
    "- Patient metadata: https://static-content.springer.com/esm/art%3A10.1038%2Fs41422-020-0355-0/MediaObjects/41422_2020_355_MOESM13_ESM.pdf\n",
    "- Sequecing quality: https://www.nature.com/\n",
    "https://static-content.springer.com/esm/art%3A10.1038%2Fs41422-020-0355-0/MediaObjects/41422_2020_355_MOESM14_ESM.pdf"
   ]
  },
  {
   "cell_type": "code",
   "execution_count": null,
   "id": "3e019b68-3575-4c8a-b1ed-22d1194e2b66",
   "metadata": {},
   "outputs": [],
   "source": [
    "# Set the project directory\n",
    "project_dir = \"./Data/LUAD/2096-Lungcancer/\"  # <- change this for each project\n",
    "\n",
    "# Load and preprocess\n",
    "ad = load_and_preprocess_project(project_dir, \n",
    "                                 Project_ID='2096-Lungcancer', \n",
    "                                 Primary_or_Metastatic='Primary',\n",
    "                                 further_pre=True)"
   ]
  },
  {
   "cell_type": "code",
   "execution_count": null,
   "id": "bdcdd6d9-4904-467e-94bb-b96befd8b91d",
   "metadata": {},
   "outputs": [],
   "source": [
    "ad.raw.shape"
   ]
  },
  {
   "cell_type": "code",
   "execution_count": null,
   "id": "cedb3c41-14d5-449b-8af1-d0c12dbe246b",
   "metadata": {},
   "outputs": [],
   "source": [
    "ad.obs['PatientNumber'] = ad.obs['PatientNumber'].astype(str)"
   ]
  },
  {
   "cell_type": "code",
   "execution_count": null,
   "id": "60a0d620-f669-4428-8d81-813f9c5562ab",
   "metadata": {},
   "outputs": [],
   "source": [
    "sc.pl.umap(ad, color=['CellType'])\n",
    "sc.pl.umap(ad, color=['PatientNumber'])\n",
    "# sc.pl.umap(ad, color=['CellFromTumor'])\n",
    "# sc.pl.umap(ad, color=['TumorSite'])\n",
    "# sc.pl.umap(ad, color=['Project'])\n"
   ]
  },
  {
   "cell_type": "code",
   "execution_count": null,
   "id": "2142fc84-43b6-4788-8aab-194552902a17",
   "metadata": {},
   "outputs": [],
   "source": [
    "ad = filter_and_recompute(adata=ad, \n",
    "                          celltype_col='CellType', \n",
    "                          celltypes_to_keep=['Cancer'],\n",
    "                          further_pre=True)\n",
    "ad"
   ]
  },
  {
   "cell_type": "code",
   "execution_count": null,
   "id": "ae0d02a0-a855-42a1-bd86-e6da97b3e2ad",
   "metadata": {},
   "outputs": [],
   "source": [
    "sc.pl.umap(ad, color=['TumorType', 'PatientNumber'])\n"
   ]
  },
  {
   "cell_type": "code",
   "execution_count": null,
   "id": "6555d663-1333-495e-9efa-57b7f21a46e7",
   "metadata": {},
   "outputs": [],
   "source": [
    "patient_cell_number = pd.read_csv(\"./Data/LUAD/2096-Lungcancer/2097-Lungcancer_metadata.csv\")['PatientNumber'].value_counts()\n",
    "patient_cell_number = patient_cell_number.to_dict()\n",
    "patient_cell_number"
   ]
  },
  {
   "cell_type": "code",
   "execution_count": null,
   "id": "95585e27-b48b-422b-8f6a-8620d30b2640",
   "metadata": {},
   "outputs": [],
   "source": [
    "pd.read_csv('./Data/BRCA/2102-Breastcancer/Sequencing_quality_S2.txt', sep='\\t')['Cancer type'].value_counts()"
   ]
  },
  {
   "cell_type": "code",
   "execution_count": null,
   "id": "91292db8-7841-4cd1-9708-29efa37f5f58",
   "metadata": {},
   "outputs": [],
   "source": [
    "patient_seuqncing_meta_df = pd.read_csv('./Data/BRCA/2102-Breastcancer/Sequencing_quality_S2.txt', sep='\\t')\n",
    "patient_seuqncing_meta_df = patient_seuqncing_meta_df[patient_seuqncing_meta_df['Cancer type'] == 'LC']\n",
    "patient_seuqncing_meta_df"
   ]
  },
  {
   "cell_type": "code",
   "execution_count": null,
   "id": "ccda325d-f71e-4191-acda-0aacee040239",
   "metadata": {},
   "outputs": [],
   "source": [
    "# Group by 'Patient number' and sum the 'Cells' column\n",
    "cells_to_lc_label = patient_seuqncing_meta_df.groupby(\"Patient number\")[\"Cells\"].sum().to_dict()\n",
    "\n",
    "# Flip the dict so it's {cell_sum: patient_id}\n",
    "cells_to_lc_label = {v: k for k, v in cells_to_lc_label.items()}\n",
    "cells_to_lc_label\n"
   ]
  },
  {
   "cell_type": "code",
   "execution_count": null,
   "id": "746153ed-409d-4081-ac0f-1d6dcee000ea",
   "metadata": {},
   "outputs": [],
   "source": [
    "patient_number_to_LC_id = dict()\n",
    "for patient_number in patient_cell_number.keys():\n",
    "    # print(patient_number)\n",
    "    try:\n",
    "        patient_number_to_LC_id[str(patient_number)] = cells_to_lc_label[patient_cell_number[patient_number]]\n",
    "    except:\n",
    "        print(patient_number)\n",
    "patient_number_to_LC_id"
   ]
  },
  {
   "cell_type": "code",
   "execution_count": null,
   "id": "4fe148a1-6d1a-4dfa-ad9f-dc8656c11029",
   "metadata": {},
   "outputs": [],
   "source": [
    "patient_number_to_LC_id['8'] = 'LC_8'"
   ]
  },
  {
   "cell_type": "code",
   "execution_count": null,
   "id": "b57f83c6-e61f-4e93-99b4-7e58afd918e3",
   "metadata": {},
   "outputs": [],
   "source": [
    "ad.obs['BC_PatientID'] = ad.obs['PatientNumber'].map(patient_number_to_LC_id)\n",
    "ad.obs"
   ]
  },
  {
   "cell_type": "code",
   "execution_count": null,
   "id": "92a0836a-82d9-43f1-8d88-e12a4ca29b77",
   "metadata": {},
   "outputs": [],
   "source": [
    "patient_meta_df = pd.read_csv('./Data/BRCA/2102-Breastcancer/Patient_metadata_S1.txt', sep='\\t')\n",
    "patient_meta_df = patient_meta_df[patient_meta_df['Tumor_type'] == 'LC']\n",
    "meta_subset = patient_meta_df\n",
    "meta_subset"
   ]
  },
  {
   "cell_type": "code",
   "execution_count": null,
   "id": "295d00ca-c507-4040-8adb-de1a650fe8ca",
   "metadata": {},
   "outputs": [],
   "source": [
    "ad.obs = ad.obs.merge(meta_subset, left_on='BC_PatientID', right_on='Patient_number', how='left')\n",
    "ad.obs"
   ]
  },
  {
   "cell_type": "code",
   "execution_count": null,
   "id": "98087411-9c42-4833-8862-4014dd9bd666",
   "metadata": {},
   "outputs": [],
   "source": [
    "ad"
   ]
  },
  {
   "cell_type": "code",
   "execution_count": null,
   "id": "17aaab0c-6fa1-4d4d-ae88-c4b5ae6cbc12",
   "metadata": {},
   "outputs": [],
   "source": [
    "ad.obs = ad.obs.drop(columns=['Molecular_status'])\n"
   ]
  },
  {
   "cell_type": "code",
   "execution_count": null,
   "id": "21128106-bf43-45d5-b0e1-6218746ce450",
   "metadata": {},
   "outputs": [],
   "source": [
    "ad.obs['Final_cancer_type'] = 'Lung Cancer'\n",
    "ad.obs['Final_histological_subtype'] = ad.obs.Pathological_subtype\n",
    "ad.obs['Final_molecular_subtype'] = 'LUCA: Unspecified'\n",
    "ad.obs['Final_tissue'] = 'Lung'\n",
    "ad.obs['Final_sample_id'] = ad.obs['BC_PatientID']"
   ]
  },
  {
   "cell_type": "code",
   "execution_count": null,
   "id": "d412a409-45e0-4bb8-bf96-0f8efd0545fd",
   "metadata": {},
   "outputs": [],
   "source": [
    "ad"
   ]
  },
  {
   "cell_type": "code",
   "execution_count": null,
   "id": "d24279c2-1467-4a01-ac52-e4cfab084449",
   "metadata": {},
   "outputs": [],
   "source": [
    "# add more clinical information\n",
    "ad.obs['Final_patient_age'] = ad.obs['Age_range']\n",
    "ad.obs['Final_patient_stage'] = ad.obs['TNM']\n",
    "ad.obs['Final_patient_treatment'] = 'Naïve'"
   ]
  },
  {
   "cell_type": "code",
   "execution_count": null,
   "id": "a97076d5-5e16-4e54-bd3b-384365caea62",
   "metadata": {},
   "outputs": [],
   "source": [
    "ad.raw.shape"
   ]
  },
  {
   "cell_type": "code",
   "execution_count": null,
   "id": "babcc0b3-e580-4c40-843d-41bd7189137e",
   "metadata": {},
   "outputs": [],
   "source": [
    "ad"
   ]
  },
  {
   "cell_type": "code",
   "execution_count": null,
   "id": "48756cd6-218b-4dfe-be60-3090cd82e3a0",
   "metadata": {},
   "outputs": [],
   "source": [
    "ad.write_h5ad('./Data/Cancer_cell_data/2096-Lungcancer.LUCA.h5ad', compression='gzip')"
   ]
  },
  {
   "cell_type": "markdown",
   "id": "622efd79-5885-436d-83cb-1ebb0dc7d34a",
   "metadata": {
    "tags": []
   },
   "source": [
    "## Integrate the data"
   ]
  },
  {
   "cell_type": "code",
   "execution_count": null,
   "id": "ca37ba74-5ab7-4373-9915-996f5840203c",
   "metadata": {
    "tags": []
   },
   "outputs": [],
   "source": [
    "data_dir = './Data/Cancer_cell_data/'\n",
    "all_h5_files = os.listdir(data_dir)\n",
    "all_h5_files.sort()\n",
    "\n",
    "all_h5_files"
   ]
  },
  {
   "cell_type": "code",
   "execution_count": null,
   "id": "ceb9f2b6-c519-448d-847d-f9e3e323be43",
   "metadata": {
    "tags": []
   },
   "outputs": [],
   "source": [
    "from collections import defaultdict\n",
    "\n",
    "cancer_ad_list = []\n",
    "\n",
    "for h5 in all_h5_files:\n",
    "    if 'ntegrated' in h5 or 'LUCA' not in h5:\n",
    "        continue\n",
    "\n",
    "    print(h5)\n",
    "    # continue\n",
    "    ad = sc.read_h5ad(data_dir + h5)\n",
    "    \n",
    "    # display(tmp_ad.obs)\n",
    "    if '2096-Lungcancer' in h5:\n",
    "        ad.obs_names = ad.obs['Cell']\n",
    "    elif 'resolution_single' in h5:\n",
    "        ad.obs_names = ad.obs.index\n",
    "    elif '_SCLC' in h5:\n",
    "        ad.obs_names = ad.obs.index\n",
    "\n",
    "    # Fix .var_names\n",
    "    if ad.var_names[0].startswith('ENSG'):\n",
    "        new_names = [i.split('_')[0] for i in ad.var.feature_name]\n",
    "    elif 'ENSG' in ad.var_names[0]:\n",
    "        new_names = [i.split('_')[0] for i in ad.var_names]\n",
    "    else:\n",
    "        new_names = list(ad.var_names)\n",
    "\n",
    "    # Assign new names\n",
    "    ad.var_names = new_names\n",
    "    ad.var_names_make_unique()\n",
    "\n",
    "    # Fix raw.var names\n",
    "    if ad.raw is not None:\n",
    "        ad.raw._var.index = pd.Index(new_names).astype(str)\n",
    "        # Ensure uniqueness\n",
    "        seen = defaultdict(int)\n",
    "        unique_names = []\n",
    "        for name in ad.raw._var.index:\n",
    "            if seen[name]:\n",
    "                unique_names.append(f\"{name}_{seen[name]}\")\n",
    "            else:\n",
    "                unique_names.append(name)\n",
    "            seen[name] += 1\n",
    "        ad.raw._var.index = pd.Index(unique_names)\n",
    "\n",
    "    # Clean obs + var\n",
    "    # ad.obs = ad.obs.reset_index(drop=True)\n",
    "    ad.obs_names_make_unique()\n",
    "    ad.var_names_make_unique()\n",
    "\n",
    "    cancer_ad_list.append(ad)\n",
    "    display(ad.to_df())\n",
    "    display(ad.raw.to_adata().to_df())\n",
    "    print(ad.raw.to_adata().to_df().max(axis=1))\n"
   ]
  },
  {
   "cell_type": "code",
   "execution_count": null,
   "id": "75c2342c-c6d8-4583-8a7b-2ea60d0f7be9",
   "metadata": {},
   "outputs": [],
   "source": [
    "for ad in cancer_ad_list:\n",
    "    print(ad.raw.shape)"
   ]
  },
  {
   "cell_type": "code",
   "execution_count": null,
   "id": "14061257-c9ae-4d90-a41c-0c825351fd93",
   "metadata": {},
   "outputs": [],
   "source": [
    "memory_usgae()"
   ]
  },
  {
   "cell_type": "code",
   "execution_count": null,
   "id": "fbc018b3-fd8d-4258-a5a7-7ff612914997",
   "metadata": {},
   "outputs": [],
   "source": [
    "combined_ad = ann.concat(cancer_ad_list, join=\"inner\", axis=0)\n",
    "combined_ad"
   ]
  },
  {
   "cell_type": "code",
   "execution_count": null,
   "id": "b60bf2f7-a5de-4f2d-8bbb-97b62fbfb71d",
   "metadata": {},
   "outputs": [],
   "source": [
    "combined_ad.raw.shape"
   ]
  },
  {
   "cell_type": "code",
   "execution_count": null,
   "id": "7298723c-c482-4d61-beaa-d19d717d982f",
   "metadata": {},
   "outputs": [],
   "source": [
    "combined_ad = reprocess_all(combined_ad)"
   ]
  },
  {
   "cell_type": "code",
   "execution_count": null,
   "id": "c251c86f-14e4-4690-8696-76d08462a79d",
   "metadata": {},
   "outputs": [],
   "source": []
  },
  {
   "cell_type": "code",
   "execution_count": null,
   "id": "1b86ae60-553c-4d3d-ab96-95c240ac31af",
   "metadata": {},
   "outputs": [],
   "source": [
    "combined_ad"
   ]
  },
  {
   "cell_type": "code",
   "execution_count": null,
   "id": "1b3559ad-b97d-4e13-8953-6ead24953aba",
   "metadata": {},
   "outputs": [],
   "source": [
    "combined_ad.obs[\"Final_histological_subtype\"].value_counts()"
   ]
  },
  {
   "cell_type": "code",
   "execution_count": null,
   "id": "0e961d5f-773f-4d2f-8905-ac4cbb7676ec",
   "metadata": {},
   "outputs": [],
   "source": [
    "combined_ad.obs[\"Final_histological_subtype_backup\"] = combined_ad.obs[\"Final_histological_subtype\"].copy()\n"
   ]
  },
  {
   "cell_type": "code",
   "execution_count": null,
   "id": "02b752a6-2094-4bb0-9ffb-f2443b83cab7",
   "metadata": {},
   "outputs": [],
   "source": [
    "def unify_histological_subtype(value):\n",
    "    value = str(value).strip().lower()\n",
    "    if value in {\"luad\", \"adenocarcinoma\"}:\n",
    "        return \"LUCA: Lung adenocarcinoma\"\n",
    "    elif value in {\"lusc\", \"squamous cell carcinoma\"}:\n",
    "        return \"LUCA: Lung squamous carcinoma\"\n",
    "    elif value == \"nsclc\":\n",
    "        return \"LUCA: NSCLC\"\n",
    "    elif value == \"sclc\":\n",
    "        return \"LUCA: Small cell lung cancer\"\n",
    "    elif value == \"large cell carcinoma\":\n",
    "        return \"LUCA: Large cell carcinoma\"\n",
    "    elif value == \"pleiomorphic carcinoma\":\n",
    "        return \"LUCA: Pleiomorphic carcinoma\"\n",
    "    else:\n",
    "        return \"LUCA: Unspecified\"\n",
    "\n",
    "combined_ad.obs[\"Final_histological_subtype\"] = combined_ad.obs[\"Final_histological_subtype_backup\"].apply(unify_histological_subtype)\n",
    "combined_ad.obs['Final_histological_subtype'].value_counts()"
   ]
  },
  {
   "cell_type": "code",
   "execution_count": null,
   "id": "db822f66-425e-4f00-83f2-1377ae753439",
   "metadata": {},
   "outputs": [],
   "source": [
    "combined_ad.obs['Final_molecular_subtype'].value_counts()"
   ]
  },
  {
   "cell_type": "code",
   "execution_count": null,
   "id": "1617d7a5-1a1b-463e-b377-16361a4aa465",
   "metadata": {},
   "outputs": [],
   "source": [
    "def unify_tissue(tissue):\n",
    "    tissue = str(tissue).strip().lower()\n",
    "    if \"adrenal\" in tissue:\n",
    "        return \"Adrenal\"\n",
    "    # add more rules here as needed\n",
    "    return tissue.capitalize()\n",
    "\n",
    "combined_ad.obs[\"Final_tissue\"] = combined_ad.obs[\"Final_tissue\"].apply(unify_tissue)"
   ]
  },
  {
   "cell_type": "code",
   "execution_count": null,
   "id": "ed2a82f1-376e-4314-9ac6-eafa4c268c0b",
   "metadata": {},
   "outputs": [],
   "source": [
    "combined_ad"
   ]
  },
  {
   "cell_type": "code",
   "execution_count": null,
   "id": "ad434d8a-8978-4d70-9c94-91c200ab76c6",
   "metadata": {},
   "outputs": [],
   "source": [
    "for obs in ['Project_ID', 'Primary_or_Metastatic', 'Final_cancer_type', 'Final_histological_subtype', 'Final_molecular_subtype', 'Final_tissue']:\n",
    "    sc.pl.umap(combined_ad, color=obs)"
   ]
  },
  {
   "cell_type": "markdown",
   "id": "2e68f6ec-2f4b-4dba-b813-8371e5e82355",
   "metadata": {},
   "source": [
    "### Harmony integration"
   ]
  },
  {
   "cell_type": "code",
   "execution_count": null,
   "id": "bb8f067b-b46c-40c6-8ae7-3e483f61f4d1",
   "metadata": {},
   "outputs": [],
   "source": [
    "combined_ad"
   ]
  },
  {
   "cell_type": "code",
   "execution_count": null,
   "id": "c265df45-4cdb-4c9e-876f-77ad19fde810",
   "metadata": {},
   "outputs": [],
   "source": [
    "Z = harmonize(combined_ad.obsm['X_pca'], combined_ad.obs, batch_key = ['Project_ID'])\n"
   ]
  },
  {
   "cell_type": "code",
   "execution_count": null,
   "id": "d356aa57-529e-4a3e-89ad-56d6ebed1612",
   "metadata": {},
   "outputs": [],
   "source": [
    "combined_ad.obsm['X_pca_harmony'] = Z\n"
   ]
  },
  {
   "cell_type": "code",
   "execution_count": null,
   "id": "7bee1706-4c6a-4a8c-8892-f785e4e42804",
   "metadata": {},
   "outputs": [],
   "source": [
    "sc.pp.neighbors(combined_ad, n_neighbors=15, use_rep='X_pca_harmony')\n",
    "sc.tl.umap(combined_ad)"
   ]
  },
  {
   "cell_type": "code",
   "execution_count": null,
   "id": "12777301-36d7-42b0-873e-4cd293573e9f",
   "metadata": {},
   "outputs": [],
   "source": [
    "for obs in ['Project_ID', 'Primary_or_Metastatic', 'Final_cancer_type', 'Final_histological_subtype', 'Final_molecular_subtype', 'Final_tissue']:\n",
    "    sc.pl.umap(combined_ad, color=obs)"
   ]
  },
  {
   "cell_type": "code",
   "execution_count": null,
   "id": "9ddf7eaa-a9ec-4cae-861f-800fc3bad9c6",
   "metadata": {},
   "outputs": [],
   "source": [
    "combined_ad.obs[\"Final_patient_age_backup\"] = combined_ad.obs[\"Final_patient_age\"]\n",
    "\n",
    "def clean_patient_age(age):\n",
    "    if pd.isna(age):\n",
    "        return np.nan\n",
    "    age = str(age).strip()\n",
    "    if age.lower() == \"unknown\":\n",
    "        return np.nan\n",
    "    elif \"-\" in age:\n",
    "        # Convert age ranges like '46-50' to their midpoint\n",
    "        parts = age.split(\"-\")\n",
    "        try:\n",
    "            return int((int(parts[0]) + int(parts[1])) / 2)\n",
    "        except:\n",
    "            return np.nan\n",
    "    else:\n",
    "        try:\n",
    "            return int(age)\n",
    "        except:\n",
    "            return np.nan\n",
    "\n",
    "# Apply cleaning\n",
    "combined_ad.obs[\"Final_patient_age\"] = combined_ad.obs[\"Final_patient_age_backup\"].apply(clean_patient_age)\n",
    "combined_ad.obs[\"Final_patient_age_backup\"] =combined_ad.obs[\"Final_patient_age_backup\"].astype(str)"
   ]
  },
  {
   "cell_type": "code",
   "execution_count": null,
   "id": "739cb705-a406-4206-a172-81417972231f",
   "metadata": {},
   "outputs": [],
   "source": []
  },
  {
   "cell_type": "code",
   "execution_count": null,
   "id": "e67da09a-3b04-476e-91b2-d1ebcf83e8b8",
   "metadata": {
    "tags": []
   },
   "outputs": [],
   "source": [
    "\n",
    "combined_ad.write_h5ad('./Data/Cancer_cell_data/LUCA_integrated.harmony.h5ad', compression='gzip')\n"
   ]
  },
  {
   "cell_type": "code",
   "execution_count": null,
   "id": "be15780c-91cf-4ecb-aeb5-63a9b77e0be1",
   "metadata": {},
   "outputs": [],
   "source": []
  }
 ],
 "metadata": {
  "kernelspec": {
   "display_name": "gears",
   "language": "python",
   "name": "gears"
  },
  "language_info": {
   "codemirror_mode": {
    "name": "ipython",
    "version": 3
   },
   "file_extension": ".py",
   "mimetype": "text/x-python",
   "name": "python",
   "nbconvert_exporter": "python",
   "pygments_lexer": "ipython3",
   "version": "3.8.18"
  }
 },
 "nbformat": 4,
 "nbformat_minor": 5
}
