{
 "cells": [
  {
   "cell_type": "code",
   "execution_count": 1,
   "id": "0",
   "metadata": {},
   "outputs": [],
   "source": [
    "import scanpy as sc\n",
    "import pandas as pd\n",
    "import numpy as np\n",
    "import matplotlib.pyplot as plt\n",
    "import sklearn as skl\n",
    "import anndata as ann\n",
    "import random, os\n",
    "from scipy.stats import pearsonr as pr\n",
    "from sklearn.metrics import mean_squared_error as mse\n",
    "from sklearn.metrics import roc_auc_score\n",
    "from sklearn.metrics import accuracy_score\n",
    "from sklearn.metrics import f1_score as f1\n",
    "from sklearn.metrics import precision_recall_curve as prc\n",
    "from sklearn.metrics import silhouette_score as sil\n",
    "from sklearn.metrics import auc\n",
    "import matplotlib.pyplot as plt\n",
    "import seaborn as sns\n",
    "from sklearn.metrics import precision_score, recall_score, average_precision_score\n",
    "from sklearn.metrics import silhouette_score\n",
    "from torch_geometric.nn import TransformerConv\n",
    "from torch_geometric.data import Data\n",
    "import gc, psutil"
   ]
  },
  {
   "cell_type": "code",
   "execution_count": 2,
   "id": "1",
   "metadata": {},
   "outputs": [],
   "source": [
    "import torch\n",
    "import torch_geometric\n",
    "from torch_geometric.nn import GraphConv, GCNConv\n",
    "from sklearn.model_selection import StratifiedKFold\n",
    "import scanpy as sc\n",
    "import pandas as pd\n",
    "import numpy as np\n",
    "from sklearn.preprocessing import StandardScaler\n",
    "from sklearn.neighbors import NearestNeighbors\n",
    "import torch_geometric.nn as pyg_nn\n",
    "from torch_geometric.data import Data\n",
    "from torch_geometric.utils import from_scipy_sparse_matrix\n",
    "from sklearn.preprocessing import LabelEncoder\n",
    "from torch_geometric.loader import NeighborLoader\n"
   ]
  },
  {
   "cell_type": "code",
   "execution_count": 3,
   "id": "2",
   "metadata": {},
   "outputs": [],
   "source": [
    "sc.set_figure_params(dpi=200)"
   ]
  },
  {
   "cell_type": "code",
   "execution_count": 4,
   "id": "3",
   "metadata": {},
   "outputs": [
    {
     "name": "stdout",
     "output_type": "stream",
     "text": [
      "Using device: cuda\n"
     ]
    }
   ],
   "source": [
    "import torch\n",
    "from torch_geometric.data import DataLoader\n",
    "from sklearn.model_selection import StratifiedKFold\n",
    "from torch.utils.data import DataLoader\n",
    "from tqdm import tqdm  # For progress bar\n",
    "from sklearn.model_selection import KFold\n",
    "\n",
    "# Set random seeds for reproducibility\n",
    "import random\n",
    "import numpy as np\n",
    "import torch\n",
    "\n",
    "def set_random_seeds(seed=42):\n",
    "    random.seed(seed)\n",
    "    np.random.seed(seed)\n",
    "    torch.manual_seed(seed)\n",
    "    torch.cuda.manual_seed(seed)  # if using CUDA\n",
    "    torch.backends.cudnn.deterministic = True\n",
    "    torch.backends.cudnn.benchmark = False\n",
    "\n",
    "set_random_seeds(42)\n",
    "# Check if GPU is available and set the device\n",
    "device = torch.device(\"cuda\" if torch.cuda.is_available() else \"cpu\")\n",
    "print(f\"Using device: {device}\")\n"
   ]
  },
  {
   "cell_type": "code",
   "execution_count": 5,
   "id": "4",
   "metadata": {},
   "outputs": [],
   "source": [
    "import torch\n",
    "import torch.nn as nn\n",
    "import torch.optim as optim\n",
    "from torch.utils.data import DataLoader, TensorDataset\n",
    "from sklearn.model_selection import KFold\n",
    "from sklearn.metrics import mean_squared_error\n",
    "from tqdm import tqdm\n",
    "from torch.nn import Linear, Dropout\n",
    "from torch_geometric.nn import TransformerConv\n",
    "from sklearn.model_selection import train_test_split\n",
    "from sklearn.metrics import f1_score, roc_auc_score, average_precision_score, accuracy_score\n"
   ]
  },
  {
   "cell_type": "code",
   "execution_count": 6,
   "id": "5",
   "metadata": {},
   "outputs": [],
   "source": [
    "from torch_geometric.data import Data\n",
    "from sklearn.model_selection import StratifiedKFold\n",
    "from sklearn.preprocessing import LabelEncoder"
   ]
  },
  {
   "cell_type": "code",
   "execution_count": 7,
   "id": "6",
   "metadata": {},
   "outputs": [],
   "source": [
    "from sklearn.metrics import (\n",
    "    accuracy_score, f1_score, roc_auc_score,\n",
    "    average_precision_score, confusion_matrix, classification_report\n",
    ")\n",
    "import matplotlib.pyplot as plt\n",
    "import seaborn as sns\n",
    "from collections import Counter\n",
    "from torch_geometric.loader import RandomNodeLoader\n",
    "from torch_geometric.utils import subgraph"
   ]
  },
  {
   "cell_type": "code",
   "execution_count": 8,
   "id": "7",
   "metadata": {},
   "outputs": [],
   "source": [
    "def memory_usgae():\n",
    "    gc.collect()\n",
    "    torch.cuda.empty_cache()\n",
    "    process = psutil.Process(os.getpid())\n",
    "    memory_gb = process.memory_info().rss / 1024**3  # in GB\n",
    "\n",
    "    print(f\"Current memory usage: {memory_gb:.2f} GB\")"
   ]
  },
  {
   "cell_type": "markdown",
   "id": "8",
   "metadata": {},
   "source": [
    "# Load data"
   ]
  },
  {
   "cell_type": "code",
   "execution_count": 9,
   "id": "9",
   "metadata": {},
   "outputs": [
    {
     "data": {
      "text/plain": [
       "AnnData object with n_obs × n_vars = 725643 × 2132\n",
       "    obs: 'Project_ID', 'Primary_or_Metastatic', 'Final_cancer_type', 'Final_histological_subtype', 'Final_molecular_subtype', 'Final_tissue', 'Final_sample_id', 'Final_patient_age', 'Final_patient_stage', 'Final_patient_treatment', 'n_genes_by_counts', 'total_counts', 'total_counts_mt', 'pct_counts_mt', 'Final_histological_subtype_backup', 'Final_patient_age_backup', 'Final_tissue_backup', 'Final_patient_treatment_backup', 'Final_patient_stage_backup', 'Classifier_label'\n",
       "    var: 'mt', 'n_cells_by_counts', 'mean_counts', 'pct_dropout_by_counts', 'total_counts'\n",
       "    uns: 'Final_cancer_type_colors', 'Final_histological_subtype_colors', 'Final_molecular_subtype_colors', 'Final_patient_stage_colors', 'Final_patient_treatment_colors', 'Final_tissue_colors', 'Primary_or_Metastatic_colors', 'Project_ID_colors', 'log1p', 'neighbors', 'pca', 'umap'\n",
       "    obsm: 'X_pca', 'X_pca_harmony', 'X_pca_harmony_Project_ID', 'X_pca_harmony_project_id', 'X_umap'\n",
       "    varm: 'PCs'\n",
       "    obsp: 'connectivities', 'distances'"
      ]
     },
     "execution_count": 9,
     "metadata": {},
     "output_type": "execute_result"
    }
   ],
   "source": [
    "# load the data\n",
    "ad = sc.read_h5ad('./Data/Cancer_cell_data/All_integrated.hallmark.harmony.h5ad')\n",
    "ad"
   ]
  },
  {
   "cell_type": "markdown",
   "id": "9064a883-3e2f-4363-9024-fb20efed1190",
   "metadata": {},
   "source": [
    "Label unification:\n",
    "\n",
    "Primary: Non-metastatic Local\n",
    "\n",
    "Local: Metastatic Local\n",
    "\n",
    "Distant: Metastatic distant"
   ]
  },
  {
   "cell_type": "code",
   "execution_count": 10,
   "id": "16",
   "metadata": {},
   "outputs": [
    {
     "name": "stdout",
     "output_type": "stream",
     "text": [
      "source\n",
      "Primary    328282\n",
      "distant    249125\n",
      "local      148236\n",
      "Name: count, dtype: int64\n"
     ]
    }
   ],
   "source": [
    "# Map cancer type → its \"primary tissue\"\n",
    "primary_tissue_map = {\n",
    "    \"Breast Cancer\": \"Breast\",\n",
    "    \"Lung Cancer\": \"Lung\",\n",
    "    \"Ovarian Cancer\": \"Ovary\",\n",
    "    \"Colorectal Cancer\": \"Colon\"\n",
    "}\n",
    "\n",
    "# Initialize as primary\n",
    "ad.obs[\"source\"] = \"Primary\"\n",
    "\n",
    "\n",
    "# Loop through rows\n",
    "for idx, row in ad.obs.iterrows():\n",
    "    cancer_type = row[\"Final_cancer_type\"]\n",
    "    tissue = row[\"Final_tissue\"]\n",
    "\n",
    "    primary_site = primary_tissue_map.get(cancer_type, None)\n",
    "\n",
    "    if row[\"Primary_or_Metastatic\"] == \"Primary\":\n",
    "        ad.obs.at[idx, \"source\"] = \"Primary\"\n",
    "\n",
    "    else:  # Metastatic\n",
    "        if tissue == primary_site:\n",
    "            ad.obs.at[idx, \"source\"] = \"local\"\n",
    "        else:\n",
    "            ad.obs.at[idx, \"source\"] = \"distant\"\n",
    "\n",
    "# Summary:\n",
    "print(ad.obs[\"source\"].value_counts())\n"
   ]
  },
  {
   "cell_type": "code",
   "execution_count": 11,
   "id": "fe9e230c-f1dd-4576-86b6-202bf3dfd92a",
   "metadata": {},
   "outputs": [
    {
     "name": "stdout",
     "output_type": "stream",
     "text": [
      "Current memory usage: 21.07 GB\n"
     ]
    }
   ],
   "source": [
    "memory_usgae()"
   ]
  },
  {
   "cell_type": "markdown",
   "id": "24",
   "metadata": {},
   "source": [
    "# Model"
   ]
  },
  {
   "cell_type": "code",
   "execution_count": 12,
   "id": "25",
   "metadata": {},
   "outputs": [],
   "source": [
    "import torch\n",
    "import torch.nn.functional as F\n",
    "from torch.nn import Linear, Dropout\n",
    "from torch_geometric.nn import TransformerConv\n",
    "\n",
    "class scMeta(torch.nn.Module):\n",
    "    def __init__(self, input_dim, hidden_dim, num_classes, heads=4, dropout=0.3):\n",
    "        super(scMeta, self).__init__()\n",
    "\n",
    "        # Transformer layers\n",
    "        self.conv1 = TransformerConv(in_channels=input_dim, out_channels=hidden_dim, heads=heads, dropout=dropout)\n",
    "        self.conv2 = TransformerConv(in_channels=hidden_dim * heads, out_channels=hidden_dim, heads=1, dropout=dropout)\n",
    "\n",
    "        # Classifier head\n",
    "        self.classifier = torch.nn.Sequential(\n",
    "            Linear(hidden_dim, hidden_dim),\n",
    "            torch.nn.ReLU(),\n",
    "            Dropout(dropout),\n",
    "            Linear(hidden_dim, num_classes)\n",
    "        )\n",
    "\n",
    "    def forward(self, x, edge_index, return_embedding=False):\n",
    "        x = self.conv1(x, edge_index)\n",
    "        x = F.relu(x)\n",
    "        x = self.conv2(x, edge_index)\n",
    "        x = F.relu(x)\n",
    "\n",
    "        logits = self.classifier(x)\n",
    "\n",
    "        if return_embedding:\n",
    "            return logits, x  # logits, embeddings\n",
    "        else:\n",
    "            return logits\n"
   ]
  },
  {
   "cell_type": "markdown",
   "id": "47",
   "metadata": {},
   "source": [
    "# Data preperation"
   ]
  },
  {
   "cell_type": "code",
   "execution_count": null,
   "id": "48",
   "metadata": {},
   "outputs": [],
   "source": [
    "import torch\n",
    "import numpy as np\n",
    "from torch_geometric.data import Data\n",
    "from sklearn.model_selection import StratifiedKFold\n",
    "\n",
    "# AnnData copy\n",
    "ad_sub = ad.copy()\n",
    "\n",
    "# Features\n",
    "if not isinstance(ad_sub.X, np.ndarray):\n",
    "    X = torch.tensor(ad_sub.X.toarray(), dtype=torch.float32)\n",
    "else:\n",
    "    X = torch.tensor(ad_sub.X, dtype=torch.float32)\n",
    "\n",
    "# Graph edges\n",
    "adj = ad_sub.obsp[\"connectivities\"].tocoo()\n",
    "edge_index = torch.tensor(np.vstack((adj.row, adj.col)), dtype=torch.long)\n",
    "\n",
    "# Labels\n",
    "primary_mask = (ad_sub.obs[\"Primary_or_Metastatic\"] == \"Primary\").values\n",
    "local_mask = (ad_sub.obs[\"Primary_or_Metastatic\"] == \"Metastatic\") & (ad_sub.obs[\"source\"] == \"local\").values\n",
    "distant_mask = (ad_sub.obs[\"Primary_or_Metastatic\"] == \"Metastatic\") & (ad_sub.obs[\"source\"] == \"distant\").values\n",
    "\n",
    "y_3class = np.full(ad_sub.n_obs, -1, dtype=int)\n",
    "y_3class[primary_mask] = 0\n",
    "y_3class[local_mask] = 1\n",
    "y_3class[distant_mask] = 2\n",
    "y_3class = torch.tensor(y_3class, dtype=torch.long)\n",
    "\n",
    "# Binary label for Primary vs Local mets only (for filtered evaluation)\n",
    "y_binary = np.full(ad_sub.n_obs, -1, dtype=int)\n",
    "y_binary[primary_mask] = 0\n",
    "y_binary[local_mask] = 1\n",
    "y_binary = torch.tensor(y_binary, dtype=torch.long)\n",
    "valid_mask = (y_3class == 0) | (y_3class == 1)\n",
    "valid_idx = np.where(valid_mask)[0]\n",
    "\n",
    "# Stratified 5-fold CV\n",
    "skf = StratifiedKFold(n_splits=5, shuffle=True, random_state=42)\n",
    "folds = []\n",
    "for train_idx, val_idx in skf.split(valid_idx, y_3class[valid_idx]):\n",
    "    folds.append({\n",
    "        \"train_idx\": valid_idx[train_idx],\n",
    "        \"val_idx\": valid_idx[val_idx]\n",
    "    })\n",
    "\n",
    "data = Data(\n",
    "    x=X,\n",
    "    edge_index=edge_index,\n",
    "    y=y_3class\n",
    ")\n",
    "data.cv_folds = folds\n",
    "\n",
    "print(f\"Prepared {data.num_nodes} nodes\")\n",
    "print(f\"Primary: {(y_3class==0).sum().item()} | Local: {(y_3class==1).sum().item()} | Distant: {(y_3class==2).sum().item()}\")\n",
    "print(\"Stratified 5-fold CV done.\")\n"
   ]
  },
  {
   "cell_type": "markdown",
   "id": "49",
   "metadata": {},
   "source": [
    "# Training"
   ]
  },
  {
   "cell_type": "code",
   "execution_count": 17,
   "id": "50",
   "metadata": {},
   "outputs": [],
   "source": [
    "from sklearn.metrics import accuracy_score, f1_score, roc_auc_score, average_precision_score\n",
    "\n",
    "def evaluate(model, x_val, y_val, y_binary, device):\n",
    "    model.eval()\n",
    "\n",
    "    # Self-loop edges only\n",
    "    N = x_val.size(0)\n",
    "    edge_index_val = torch.arange(N, device=device).unsqueeze(0).repeat(2, 1)\n",
    "\n",
    "    with torch.no_grad():\n",
    "        logits, _ = model(x_val, edge_index=edge_index_val, return_embedding=True)\n",
    "\n",
    "    y_true_3class = y_val.cpu().numpy()\n",
    "    y_pred_3class = logits.argmax(dim=1).cpu().numpy()\n",
    "    y_prob_3class = torch.softmax(logits, dim=1).cpu().numpy()\n",
    "    \n",
    "    y_binary = y_binary.to(device)\n",
    "    y_val = y_val.to(device)\n",
    "\n",
    "\n",
    "    # Filter for binary classification (primary vs local mets)\n",
    "    binary_mask = (y_binary != -1) & (y_val != 2)  # exclude distant mets\n",
    "    \n",
    "    y_true_bin = y_binary[binary_mask].cpu().numpy()\n",
    "    y_pred_bin = logits.argmax(dim=1)[binary_mask].cpu().numpy()\n",
    "    y_prob_bin = torch.softmax(logits, dim=1)[binary_mask, :2].cpu().numpy()\n",
    "    \n",
    "    # Compute metrics\n",
    "    try:\n",
    "        auc = roc_auc_score(y_true_bin, y_prob_bin[:, 1], multi_class='ovr', average='weighted')\n",
    "    except:\n",
    "        auc = np.nan\n",
    "\n",
    "    try:\n",
    "        auprc = average_precision_score(y_true_bin, y_prob_bin[:, 1], average='weighted')\n",
    "    except:\n",
    "        auprc = np.nan\n",
    "\n",
    "    acc = accuracy_score(y_true_bin, y_pred_bin)\n",
    "    f1 = f1_score(y_true_bin, y_pred_bin, average='weighted')\n",
    "    \n",
    "    return acc, f1, auc, auprc, y_true_bin, y_pred_bin\n"
   ]
  },
  {
   "cell_type": "code",
   "execution_count": 15,
   "id": "51",
   "metadata": {},
   "outputs": [],
   "source": [
    "import torch.optim as optim\n",
    "from torch_geometric.loader import RandomNodeLoader\n",
    "from torch_geometric.utils import subgraph\n",
    "from tqdm import tqdm\n",
    "\n",
    "def NT_Xent(embeddings, tau=0.5):\n",
    "    device = embeddings.device\n",
    "    z_i = F.normalize(embeddings, dim=1)\n",
    "    z_j = F.normalize(embeddings[torch.randperm(z_i.size(0))], dim=1)\n",
    "\n",
    "    logits = torch.mm(z_i, z_j.t()) / tau\n",
    "    labels = torch.arange(z_i.size(0), device=device)\n",
    "    loss = F.cross_entropy(logits, labels)\n",
    "    return loss\n",
    "\n",
    "def run_fold_cv(data, save_dir, epochs=100, seed=42, patience=10, gamma=0.1):\n",
    "    os.makedirs(save_dir, exist_ok=True)\n",
    "    device = torch.device(\"cuda\" if torch.cuda.is_available() else \"cpu\")\n",
    "\n",
    "    for fold, fold_dict in enumerate(data.cv_folds):\n",
    "        memory_usgae()\n",
    "\n",
    "        print(f\"\\n🔁 Fold {fold + 1}\")\n",
    "\n",
    "        train_idx = fold_dict[\"train_idx\"]\n",
    "        val_idx = fold_dict[\"val_idx\"]\n",
    "\n",
    "        train_mask = torch.zeros(data.num_nodes, dtype=torch.bool)\n",
    "        train_mask[train_idx] = True\n",
    "\n",
    "        # Build train graph\n",
    "        edge_index_train, _ = subgraph(train_mask, data.edge_index, relabel_nodes=True)\n",
    "        x_train = data.x[train_mask]\n",
    "        y_train = data.y[train_mask]\n",
    "\n",
    "        train_data = Data(\n",
    "            x=x_train,\n",
    "            edge_index=edge_index_train,\n",
    "            y=y_train\n",
    "        )\n",
    "\n",
    "        x_val = data.x[val_idx].to(device)\n",
    "        y_val = data.y[val_idx].to(device)\n",
    "        \n",
    "        y_binary_val = y_binary[val_idx]\n",
    "\n",
    "\n",
    "        model = scMeta(\n",
    "            input_dim=data.num_node_features,\n",
    "            hidden_dim=128,\n",
    "            num_classes=len(torch.unique(data.y))\n",
    "        ).to(device)\n",
    "\n",
    "        optimizer = optim.Adam(model.parameters(), lr=1e-4)\n",
    "        best_acc = 0\n",
    "        best_auc = 0.0\n",
    "        patience_counter = 0\n",
    "        best_model_path = os.path.join(save_dir, f\"fold{fold + 1}_best_model.pt\")\n",
    "        \n",
    "        # double check class distribution in val set\n",
    "        # no distant mets should be here, no label 2\n",
    "        y_val_counts = torch.bincount(data.y[val_idx])\n",
    "        for label, count in enumerate(y_val_counts):\n",
    "            print(f\"Val label {label}: {count.item()} samples\")\n",
    "\n",
    "        # Pre-training eval\n",
    "        acc, f1, auc, auprc, _, _ = evaluate(\n",
    "            model, x_val, y_val, y_binary_val, device\n",
    "        )\n",
    "        print(f\"Pre-training stats: Acc={acc:.4f}, F1={f1:.4f}, AUROC={auc:.4f}, AUPRC={auprc:.4f}\")\n",
    "\n",
    "        for epoch in tqdm(range(epochs), desc=f\"Fold {fold + 1}\"):\n",
    "            model.train()\n",
    "            total_loss = 0\n",
    "\n",
    "            loader = RandomNodeLoader(train_data, num_parts=100, shuffle=True)\n",
    "            for batch in loader:\n",
    "                batch = batch.to(device)\n",
    "                logits, emb = model(batch.x, batch.edge_index, return_embedding=True)\n",
    "\n",
    "                loss_ce = F.cross_entropy(logits, batch.y)\n",
    "                loss_con = NT_Xent(emb, tau=0.5)\n",
    "                loss = loss_ce + gamma * loss_con\n",
    "\n",
    "                optimizer.zero_grad()\n",
    "                loss.backward()\n",
    "                optimizer.step()\n",
    "\n",
    "                total_loss += loss.item()\n",
    "\n",
    "            # Evaluate\n",
    "            acc, f1, auc, auprc, _, _ = evaluate(\n",
    "                model, x_val, y_val, y_binary_val, device\n",
    "            )\n",
    "\n",
    "            if epoch % 10 == 0:\n",
    "                print(f\"Epoch {epoch}: Acc={acc:.4f}, F1={f1:.4f}, AUROC={auc:.4f}, AUPRC={auprc:.4f}\")\n",
    "\n",
    "            if auc > best_auc:\n",
    "                best_auc = auc\n",
    "                torch.save(model.state_dict(), best_model_path)\n",
    "                patience_counter = 0\n",
    "            else:\n",
    "                patience_counter += 1\n",
    "                if patience_counter >= patience:\n",
    "                    print(f\"⏹️ Early stopping at epoch {epoch + 1}\")\n",
    "                    break\n",
    "\n",
    "        print(f\"✅ Best Acc for Fold {fold + 1}: {best_auc:.4f}\")\n",
    "\n",
    "    print(\"🎉 Finished 5-fold CV with contrastive + CE loss.\")\n"
   ]
  },
  {
   "cell_type": "code",
   "execution_count": 18,
   "id": "53",
   "metadata": {
    "tags": []
   },
   "outputs": [
    {
     "name": "stdout",
     "output_type": "stream",
     "text": [
      "********** 4.0 **********\n",
      "Current memory usage: 19.55 GB\n",
      "\n",
      "🔁 Fold 1\n",
      "Val label 0: 65657 samples\n",
      "Val label 1: 29647 samples\n",
      "Pre-training stats: Acc=0.1553, F1=0.2390, AUROC=0.4168, AUPRC=0.2660\n"
     ]
    },
    {
     "name": "stderr",
     "output_type": "stream",
     "text": [
      "Fold 1:   1%|          | 1/100 [00:12<20:35, 12.48s/it]"
     ]
    },
    {
     "name": "stdout",
     "output_type": "stream",
     "text": [
      "Epoch 0: Acc=0.8940, F1=0.8912, AUROC=0.9435, AUPRC=0.9132\n"
     ]
    },
    {
     "name": "stderr",
     "output_type": "stream",
     "text": [
      "Fold 1:  11%|█         | 11/100 [02:14<18:06, 12.20s/it]"
     ]
    },
    {
     "name": "stdout",
     "output_type": "stream",
     "text": [
      "Epoch 10: Acc=0.9788, F1=0.9788, AUROC=0.9974, AUPRC=0.9951\n"
     ]
    },
    {
     "name": "stderr",
     "output_type": "stream",
     "text": [
      "Fold 1:  21%|██        | 21/100 [04:16<16:01, 12.17s/it]"
     ]
    },
    {
     "name": "stdout",
     "output_type": "stream",
     "text": [
      "Epoch 20: Acc=0.9826, F1=0.9825, AUROC=0.9981, AUPRC=0.9964\n"
     ]
    },
    {
     "name": "stderr",
     "output_type": "stream",
     "text": [
      "Fold 1:  31%|███       | 31/100 [06:17<14:00, 12.18s/it]"
     ]
    },
    {
     "name": "stdout",
     "output_type": "stream",
     "text": [
      "Epoch 30: Acc=0.9841, F1=0.9841, AUROC=0.9984, AUPRC=0.9969\n"
     ]
    },
    {
     "name": "stderr",
     "output_type": "stream",
     "text": [
      "Fold 1:  41%|████      | 41/100 [08:19<11:59, 12.19s/it]"
     ]
    },
    {
     "name": "stdout",
     "output_type": "stream",
     "text": [
      "Epoch 40: Acc=0.9846, F1=0.9846, AUROC=0.9985, AUPRC=0.9972\n"
     ]
    },
    {
     "name": "stderr",
     "output_type": "stream",
     "text": [
      "Fold 1:  51%|█████     | 51/100 [10:21<09:54, 12.14s/it]"
     ]
    },
    {
     "name": "stdout",
     "output_type": "stream",
     "text": [
      "Epoch 50: Acc=0.9852, F1=0.9852, AUROC=0.9987, AUPRC=0.9974\n"
     ]
    },
    {
     "name": "stderr",
     "output_type": "stream",
     "text": [
      "Fold 1:  60%|██████    | 60/100 [12:22<08:14, 12.37s/it]"
     ]
    },
    {
     "name": "stdout",
     "output_type": "stream",
     "text": [
      "Epoch 60: Acc=0.9848, F1=0.9847, AUROC=0.9986, AUPRC=0.9974\n",
      "⏹️ Early stopping at epoch 61\n",
      "✅ Best Acc for Fold 1: 0.9987\n"
     ]
    },
    {
     "name": "stderr",
     "output_type": "stream",
     "text": [
      "\n"
     ]
    },
    {
     "name": "stdout",
     "output_type": "stream",
     "text": [
      "Current memory usage: 23.21 GB\n",
      "\n",
      "🔁 Fold 2\n",
      "Val label 0: 65657 samples\n",
      "Val label 1: 29647 samples\n",
      "Pre-training stats: Acc=0.3948, F1=0.3798, AUROC=0.5478, AUPRC=0.3533\n"
     ]
    },
    {
     "name": "stderr",
     "output_type": "stream",
     "text": [
      "Fold 2:   1%|          | 1/100 [00:12<20:07, 12.20s/it]"
     ]
    },
    {
     "name": "stdout",
     "output_type": "stream",
     "text": [
      "Epoch 0: Acc=0.8828, F1=0.8838, AUROC=0.9468, AUPRC=0.9155\n"
     ]
    },
    {
     "name": "stderr",
     "output_type": "stream",
     "text": [
      "Fold 2:  11%|█         | 11/100 [02:14<18:07, 12.22s/it]"
     ]
    },
    {
     "name": "stdout",
     "output_type": "stream",
     "text": [
      "Epoch 10: Acc=0.9757, F1=0.9758, AUROC=0.9973, AUPRC=0.9950\n"
     ]
    },
    {
     "name": "stderr",
     "output_type": "stream",
     "text": [
      "Fold 2:  21%|██        | 21/100 [04:16<16:05, 12.22s/it]"
     ]
    },
    {
     "name": "stdout",
     "output_type": "stream",
     "text": [
      "Epoch 20: Acc=0.9812, F1=0.9812, AUROC=0.9979, AUPRC=0.9961\n"
     ]
    },
    {
     "name": "stderr",
     "output_type": "stream",
     "text": [
      "Fold 2:  31%|███       | 31/100 [06:18<14:04, 12.24s/it]"
     ]
    },
    {
     "name": "stdout",
     "output_type": "stream",
     "text": [
      "Epoch 30: Acc=0.9842, F1=0.9841, AUROC=0.9984, AUPRC=0.9969\n"
     ]
    },
    {
     "name": "stderr",
     "output_type": "stream",
     "text": [
      "Fold 2:  41%|████      | 41/100 [08:20<12:00, 12.21s/it]"
     ]
    },
    {
     "name": "stdout",
     "output_type": "stream",
     "text": [
      "Epoch 40: Acc=0.9827, F1=0.9827, AUROC=0.9985, AUPRC=0.9971\n"
     ]
    },
    {
     "name": "stderr",
     "output_type": "stream",
     "text": [
      "Fold 2:  51%|█████     | 51/100 [10:22<09:58, 12.21s/it]"
     ]
    },
    {
     "name": "stdout",
     "output_type": "stream",
     "text": [
      "Epoch 50: Acc=0.9854, F1=0.9854, AUROC=0.9986, AUPRC=0.9973\n"
     ]
    },
    {
     "name": "stderr",
     "output_type": "stream",
     "text": [
      "Fold 2:  61%|██████    | 61/100 [12:24<07:54, 12.17s/it]"
     ]
    },
    {
     "name": "stdout",
     "output_type": "stream",
     "text": [
      "Epoch 60: Acc=0.9863, F1=0.9863, AUROC=0.9987, AUPRC=0.9975\n"
     ]
    },
    {
     "name": "stderr",
     "output_type": "stream",
     "text": [
      "Fold 2:  63%|██████▎   | 63/100 [13:01<07:38, 12.40s/it]"
     ]
    },
    {
     "name": "stdout",
     "output_type": "stream",
     "text": [
      "⏹️ Early stopping at epoch 64\n",
      "✅ Best Acc for Fold 2: 0.9987\n"
     ]
    },
    {
     "name": "stderr",
     "output_type": "stream",
     "text": [
      "\n"
     ]
    },
    {
     "name": "stdout",
     "output_type": "stream",
     "text": [
      "Current memory usage: 23.21 GB\n",
      "\n",
      "🔁 Fold 3\n",
      "Val label 0: 65656 samples\n",
      "Val label 1: 29648 samples\n",
      "Pre-training stats: Acc=0.3081, F1=0.1477, AUROC=0.5188, AUPRC=0.3282\n"
     ]
    },
    {
     "name": "stderr",
     "output_type": "stream",
     "text": [
      "Fold 3:   1%|          | 1/100 [00:12<20:21, 12.33s/it]"
     ]
    },
    {
     "name": "stdout",
     "output_type": "stream",
     "text": [
      "Epoch 0: Acc=0.8975, F1=0.8954, AUROC=0.9473, AUPRC=0.9176\n"
     ]
    },
    {
     "name": "stderr",
     "output_type": "stream",
     "text": [
      "Fold 3:  11%|█         | 11/100 [02:14<18:10, 12.26s/it]"
     ]
    },
    {
     "name": "stdout",
     "output_type": "stream",
     "text": [
      "Epoch 10: Acc=0.9560, F1=0.9565, AUROC=0.9966, AUPRC=0.9938\n"
     ]
    },
    {
     "name": "stderr",
     "output_type": "stream",
     "text": [
      "Fold 3:  21%|██        | 21/100 [04:17<16:04, 12.21s/it]"
     ]
    },
    {
     "name": "stdout",
     "output_type": "stream",
     "text": [
      "Epoch 20: Acc=0.9795, F1=0.9795, AUROC=0.9980, AUPRC=0.9963\n"
     ]
    },
    {
     "name": "stderr",
     "output_type": "stream",
     "text": [
      "Fold 3:  31%|███       | 31/100 [06:19<14:03, 12.22s/it]"
     ]
    },
    {
     "name": "stdout",
     "output_type": "stream",
     "text": [
      "Epoch 30: Acc=0.9836, F1=0.9836, AUROC=0.9984, AUPRC=0.9969\n"
     ]
    },
    {
     "name": "stderr",
     "output_type": "stream",
     "text": [
      "Fold 3:  41%|████      | 41/100 [08:20<11:58, 12.17s/it]"
     ]
    },
    {
     "name": "stdout",
     "output_type": "stream",
     "text": [
      "Epoch 40: Acc=0.9831, F1=0.9831, AUROC=0.9984, AUPRC=0.9971\n"
     ]
    },
    {
     "name": "stderr",
     "output_type": "stream",
     "text": [
      "Fold 3:  51%|█████     | 51/100 [10:22<09:55, 12.15s/it]"
     ]
    },
    {
     "name": "stdout",
     "output_type": "stream",
     "text": [
      "Epoch 50: Acc=0.9833, F1=0.9834, AUROC=0.9985, AUPRC=0.9972\n"
     ]
    },
    {
     "name": "stderr",
     "output_type": "stream",
     "text": [
      "Fold 3:  61%|██████    | 61/100 [12:23<07:53, 12.13s/it]"
     ]
    },
    {
     "name": "stdout",
     "output_type": "stream",
     "text": [
      "Epoch 60: Acc=0.9862, F1=0.9862, AUROC=0.9987, AUPRC=0.9976\n"
     ]
    },
    {
     "name": "stderr",
     "output_type": "stream",
     "text": [
      "Fold 3:  71%|███████   | 71/100 [14:25<05:52, 12.15s/it]"
     ]
    },
    {
     "name": "stdout",
     "output_type": "stream",
     "text": [
      "Epoch 70: Acc=0.9848, F1=0.9848, AUROC=0.9988, AUPRC=0.9977\n"
     ]
    },
    {
     "name": "stderr",
     "output_type": "stream",
     "text": [
      "Fold 3:  81%|████████  | 81/100 [16:27<03:51, 12.19s/it]"
     ]
    },
    {
     "name": "stdout",
     "output_type": "stream",
     "text": [
      "Epoch 80: Acc=0.9869, F1=0.9869, AUROC=0.9988, AUPRC=0.9978\n"
     ]
    },
    {
     "name": "stderr",
     "output_type": "stream",
     "text": [
      "Fold 3:  91%|█████████ | 91/100 [18:29<01:50, 12.23s/it]"
     ]
    },
    {
     "name": "stdout",
     "output_type": "stream",
     "text": [
      "Epoch 90: Acc=0.9871, F1=0.9871, AUROC=0.9988, AUPRC=0.9978\n"
     ]
    },
    {
     "name": "stderr",
     "output_type": "stream",
     "text": [
      "Fold 3:  98%|█████████▊| 98/100 [20:06<00:24, 12.32s/it]"
     ]
    },
    {
     "name": "stdout",
     "output_type": "stream",
     "text": [
      "⏹️ Early stopping at epoch 99\n",
      "✅ Best Acc for Fold 3: 0.9990\n"
     ]
    },
    {
     "name": "stderr",
     "output_type": "stream",
     "text": [
      "\n"
     ]
    },
    {
     "name": "stdout",
     "output_type": "stream",
     "text": [
      "Current memory usage: 23.23 GB\n",
      "\n",
      "🔁 Fold 4\n",
      "Val label 0: 65656 samples\n",
      "Val label 1: 29647 samples\n",
      "Pre-training stats: Acc=0.3112, F1=0.1498, AUROC=0.5070, AUPRC=0.3156\n"
     ]
    },
    {
     "name": "stderr",
     "output_type": "stream",
     "text": [
      "Fold 4:   1%|          | 1/100 [00:12<20:16, 12.29s/it]"
     ]
    },
    {
     "name": "stdout",
     "output_type": "stream",
     "text": [
      "Epoch 0: Acc=0.8966, F1=0.8944, AUROC=0.9460, AUPRC=0.9167\n"
     ]
    },
    {
     "name": "stderr",
     "output_type": "stream",
     "text": [
      "Fold 4:  11%|█         | 11/100 [02:15<18:12, 12.28s/it]"
     ]
    },
    {
     "name": "stdout",
     "output_type": "stream",
     "text": [
      "Epoch 10: Acc=0.9790, F1=0.9790, AUROC=0.9975, AUPRC=0.9952\n"
     ]
    },
    {
     "name": "stderr",
     "output_type": "stream",
     "text": [
      "Fold 4:  21%|██        | 21/100 [04:17<16:07, 12.25s/it]"
     ]
    },
    {
     "name": "stdout",
     "output_type": "stream",
     "text": [
      "Epoch 20: Acc=0.9802, F1=0.9802, AUROC=0.9980, AUPRC=0.9962\n"
     ]
    },
    {
     "name": "stderr",
     "output_type": "stream",
     "text": [
      "Fold 4:  31%|███       | 31/100 [06:20<14:04, 12.24s/it]"
     ]
    },
    {
     "name": "stdout",
     "output_type": "stream",
     "text": [
      "Epoch 30: Acc=0.9827, F1=0.9827, AUROC=0.9982, AUPRC=0.9967\n"
     ]
    },
    {
     "name": "stderr",
     "output_type": "stream",
     "text": [
      "Fold 4:  41%|████      | 41/100 [08:22<12:02, 12.24s/it]"
     ]
    },
    {
     "name": "stdout",
     "output_type": "stream",
     "text": [
      "Epoch 40: Acc=0.9834, F1=0.9835, AUROC=0.9984, AUPRC=0.9970\n"
     ]
    },
    {
     "name": "stderr",
     "output_type": "stream",
     "text": [
      "Fold 4:  51%|█████     | 51/100 [10:24<09:59, 12.23s/it]"
     ]
    },
    {
     "name": "stdout",
     "output_type": "stream",
     "text": [
      "Epoch 50: Acc=0.9851, F1=0.9851, AUROC=0.9986, AUPRC=0.9973\n"
     ]
    },
    {
     "name": "stderr",
     "output_type": "stream",
     "text": [
      "Fold 4:  61%|██████    | 61/100 [12:27<07:57, 12.25s/it]"
     ]
    },
    {
     "name": "stdout",
     "output_type": "stream",
     "text": [
      "Epoch 60: Acc=0.9864, F1=0.9864, AUROC=0.9988, AUPRC=0.9976\n"
     ]
    },
    {
     "name": "stderr",
     "output_type": "stream",
     "text": [
      "Fold 4:  70%|███████   | 70/100 [14:29<06:12, 12.42s/it]"
     ]
    },
    {
     "name": "stdout",
     "output_type": "stream",
     "text": [
      "Epoch 70: Acc=0.9861, F1=0.9861, AUROC=0.9987, AUPRC=0.9975\n",
      "⏹️ Early stopping at epoch 71\n",
      "✅ Best Acc for Fold 4: 0.9988\n"
     ]
    },
    {
     "name": "stderr",
     "output_type": "stream",
     "text": [
      "\n"
     ]
    },
    {
     "name": "stdout",
     "output_type": "stream",
     "text": [
      "Current memory usage: 23.26 GB\n",
      "\n",
      "🔁 Fold 5\n",
      "Val label 0: 65656 samples\n",
      "Val label 1: 29647 samples\n",
      "Pre-training stats: Acc=0.3117, F1=0.3811, AUROC=0.4605, AUPRC=0.2886\n"
     ]
    },
    {
     "name": "stderr",
     "output_type": "stream",
     "text": [
      "Fold 5:   1%|          | 1/100 [00:12<20:22, 12.34s/it]"
     ]
    },
    {
     "name": "stdout",
     "output_type": "stream",
     "text": [
      "Epoch 0: Acc=0.8945, F1=0.8913, AUROC=0.9463, AUPRC=0.9159\n"
     ]
    },
    {
     "name": "stderr",
     "output_type": "stream",
     "text": [
      "Fold 5:  11%|█         | 11/100 [02:15<18:13, 12.29s/it]"
     ]
    },
    {
     "name": "stdout",
     "output_type": "stream",
     "text": [
      "Epoch 10: Acc=0.9744, F1=0.9745, AUROC=0.9973, AUPRC=0.9948\n"
     ]
    },
    {
     "name": "stderr",
     "output_type": "stream",
     "text": [
      "Fold 5:  21%|██        | 21/100 [04:18<16:09, 12.27s/it]"
     ]
    },
    {
     "name": "stdout",
     "output_type": "stream",
     "text": [
      "Epoch 20: Acc=0.9814, F1=0.9815, AUROC=0.9981, AUPRC=0.9963\n"
     ]
    },
    {
     "name": "stderr",
     "output_type": "stream",
     "text": [
      "Fold 5:  31%|███       | 31/100 [06:20<14:04, 12.23s/it]"
     ]
    },
    {
     "name": "stdout",
     "output_type": "stream",
     "text": [
      "Epoch 30: Acc=0.9825, F1=0.9825, AUROC=0.9984, AUPRC=0.9968\n"
     ]
    },
    {
     "name": "stderr",
     "output_type": "stream",
     "text": [
      "Fold 5:  41%|████      | 41/100 [08:22<12:01, 12.23s/it]"
     ]
    },
    {
     "name": "stdout",
     "output_type": "stream",
     "text": [
      "Epoch 40: Acc=0.9837, F1=0.9838, AUROC=0.9986, AUPRC=0.9972\n"
     ]
    },
    {
     "name": "stderr",
     "output_type": "stream",
     "text": [
      "Fold 5:  51%|█████     | 51/100 [10:25<10:00, 12.25s/it]"
     ]
    },
    {
     "name": "stdout",
     "output_type": "stream",
     "text": [
      "Epoch 50: Acc=0.9851, F1=0.9851, AUROC=0.9987, AUPRC=0.9974\n"
     ]
    },
    {
     "name": "stderr",
     "output_type": "stream",
     "text": [
      "Fold 5:  61%|██████    | 61/100 [12:28<07:57, 12.26s/it]"
     ]
    },
    {
     "name": "stdout",
     "output_type": "stream",
     "text": [
      "Epoch 60: Acc=0.9846, F1=0.9845, AUROC=0.9987, AUPRC=0.9974\n"
     ]
    },
    {
     "name": "stderr",
     "output_type": "stream",
     "text": [
      "Fold 5:  71%|███████   | 71/100 [14:30<05:55, 12.27s/it]"
     ]
    },
    {
     "name": "stdout",
     "output_type": "stream",
     "text": [
      "Epoch 70: Acc=0.9847, F1=0.9848, AUROC=0.9988, AUPRC=0.9976\n"
     ]
    },
    {
     "name": "stderr",
     "output_type": "stream",
     "text": [
      "Fold 5:  81%|████████  | 81/100 [16:33<03:52, 12.22s/it]"
     ]
    },
    {
     "name": "stdout",
     "output_type": "stream",
     "text": [
      "Epoch 80: Acc=0.9850, F1=0.9851, AUROC=0.9988, AUPRC=0.9977\n"
     ]
    },
    {
     "name": "stderr",
     "output_type": "stream",
     "text": [
      "Fold 5:  91%|█████████ | 91/100 [18:35<01:50, 12.24s/it]"
     ]
    },
    {
     "name": "stdout",
     "output_type": "stream",
     "text": [
      "Epoch 90: Acc=0.9851, F1=0.9851, AUROC=0.9988, AUPRC=0.9977\n"
     ]
    },
    {
     "name": "stderr",
     "output_type": "stream",
     "text": [
      "Fold 5: 100%|██████████| 100/100 [20:25<00:00, 12.25s/it]\n"
     ]
    },
    {
     "name": "stdout",
     "output_type": "stream",
     "text": [
      "✅ Best Acc for Fold 5: 0.9990\n",
      "🎉 Finished 5-fold CV with contrastive + CE loss.\n",
      "********** 5.0 **********\n",
      "Current memory usage: 20.06 GB\n",
      "\n",
      "🔁 Fold 1\n",
      "Val label 0: 65657 samples\n",
      "Val label 1: 29647 samples\n",
      "Pre-training stats: Acc=0.4948, F1=0.5141, AUROC=0.5171, AUPRC=0.3274\n"
     ]
    },
    {
     "name": "stderr",
     "output_type": "stream",
     "text": [
      "Fold 1:   1%|          | 1/100 [00:12<20:13, 12.26s/it]"
     ]
    },
    {
     "name": "stdout",
     "output_type": "stream",
     "text": [
      "Epoch 0: Acc=0.8948, F1=0.8918, AUROC=0.9468, AUPRC=0.9162\n"
     ]
    },
    {
     "name": "stderr",
     "output_type": "stream",
     "text": [
      "Fold 1:  11%|█         | 11/100 [02:14<18:03, 12.17s/it]"
     ]
    },
    {
     "name": "stdout",
     "output_type": "stream",
     "text": [
      "Epoch 10: Acc=0.9769, F1=0.9770, AUROC=0.9971, AUPRC=0.9948\n"
     ]
    },
    {
     "name": "stderr",
     "output_type": "stream",
     "text": [
      "Fold 1:  21%|██        | 21/100 [04:15<15:59, 12.15s/it]"
     ]
    },
    {
     "name": "stdout",
     "output_type": "stream",
     "text": [
      "Epoch 20: Acc=0.9823, F1=0.9823, AUROC=0.9981, AUPRC=0.9964\n"
     ]
    },
    {
     "name": "stderr",
     "output_type": "stream",
     "text": [
      "Fold 1:  31%|███       | 31/100 [06:17<13:57, 12.14s/it]"
     ]
    },
    {
     "name": "stdout",
     "output_type": "stream",
     "text": [
      "Epoch 30: Acc=0.9840, F1=0.9840, AUROC=0.9983, AUPRC=0.9968\n"
     ]
    },
    {
     "name": "stderr",
     "output_type": "stream",
     "text": [
      "Fold 1:  41%|████      | 41/100 [08:18<11:56, 12.14s/it]"
     ]
    },
    {
     "name": "stdout",
     "output_type": "stream",
     "text": [
      "Epoch 40: Acc=0.9849, F1=0.9849, AUROC=0.9985, AUPRC=0.9972\n"
     ]
    },
    {
     "name": "stderr",
     "output_type": "stream",
     "text": [
      "Fold 1:  51%|█████     | 51/100 [10:20<09:57, 12.19s/it]"
     ]
    },
    {
     "name": "stdout",
     "output_type": "stream",
     "text": [
      "Epoch 50: Acc=0.9843, F1=0.9844, AUROC=0.9986, AUPRC=0.9974\n"
     ]
    },
    {
     "name": "stderr",
     "output_type": "stream",
     "text": [
      "Fold 1:  61%|██████    | 61/100 [12:21<07:53, 12.13s/it]"
     ]
    },
    {
     "name": "stdout",
     "output_type": "stream",
     "text": [
      "Epoch 60: Acc=0.9863, F1=0.9863, AUROC=0.9987, AUPRC=0.9977\n"
     ]
    },
    {
     "name": "stderr",
     "output_type": "stream",
     "text": [
      "Fold 1:  71%|███████   | 71/100 [14:22<05:51, 12.13s/it]"
     ]
    },
    {
     "name": "stdout",
     "output_type": "stream",
     "text": [
      "Epoch 70: Acc=0.9871, F1=0.9871, AUROC=0.9988, AUPRC=0.9977\n"
     ]
    },
    {
     "name": "stderr",
     "output_type": "stream",
     "text": [
      "Fold 1:  81%|████████  | 81/100 [16:24<03:52, 12.22s/it]"
     ]
    },
    {
     "name": "stdout",
     "output_type": "stream",
     "text": [
      "Epoch 80: Acc=0.9873, F1=0.9873, AUROC=0.9989, AUPRC=0.9979\n"
     ]
    },
    {
     "name": "stderr",
     "output_type": "stream",
     "text": [
      "Fold 1:  88%|████████▊ | 88/100 [18:02<02:27, 12.30s/it]"
     ]
    },
    {
     "name": "stdout",
     "output_type": "stream",
     "text": [
      "⏹️ Early stopping at epoch 89\n",
      "✅ Best Acc for Fold 1: 0.9989\n"
     ]
    },
    {
     "name": "stderr",
     "output_type": "stream",
     "text": [
      "\n"
     ]
    },
    {
     "name": "stdout",
     "output_type": "stream",
     "text": [
      "Current memory usage: 23.23 GB\n",
      "\n",
      "🔁 Fold 2\n",
      "Val label 0: 65657 samples\n",
      "Val label 1: 29647 samples\n",
      "Pre-training stats: Acc=0.5950, F1=0.5462, AUROC=0.4706, AUPRC=0.2903\n"
     ]
    },
    {
     "name": "stderr",
     "output_type": "stream",
     "text": [
      "Fold 2:   1%|          | 1/100 [00:12<20:22, 12.34s/it]"
     ]
    },
    {
     "name": "stdout",
     "output_type": "stream",
     "text": [
      "Epoch 0: Acc=0.8855, F1=0.8832, AUROC=0.9343, AUPRC=0.9002\n"
     ]
    },
    {
     "name": "stderr",
     "output_type": "stream",
     "text": [
      "Fold 2:  11%|█         | 11/100 [02:14<18:06, 12.21s/it]"
     ]
    },
    {
     "name": "stdout",
     "output_type": "stream",
     "text": [
      "Epoch 10: Acc=0.9723, F1=0.9725, AUROC=0.9972, AUPRC=0.9948\n"
     ]
    },
    {
     "name": "stderr",
     "output_type": "stream",
     "text": [
      "Fold 2:  21%|██        | 21/100 [04:16<16:04, 12.21s/it]"
     ]
    },
    {
     "name": "stdout",
     "output_type": "stream",
     "text": [
      "Epoch 20: Acc=0.9821, F1=0.9821, AUROC=0.9981, AUPRC=0.9963\n"
     ]
    },
    {
     "name": "stderr",
     "output_type": "stream",
     "text": [
      "Fold 2:  31%|███       | 31/100 [06:18<14:03, 12.22s/it]"
     ]
    },
    {
     "name": "stdout",
     "output_type": "stream",
     "text": [
      "Epoch 30: Acc=0.9824, F1=0.9823, AUROC=0.9983, AUPRC=0.9966\n"
     ]
    },
    {
     "name": "stderr",
     "output_type": "stream",
     "text": [
      "Fold 2:  41%|████      | 41/100 [08:21<12:02, 12.24s/it]"
     ]
    },
    {
     "name": "stdout",
     "output_type": "stream",
     "text": [
      "Epoch 40: Acc=0.9839, F1=0.9839, AUROC=0.9984, AUPRC=0.9969\n"
     ]
    },
    {
     "name": "stderr",
     "output_type": "stream",
     "text": [
      "Fold 2:  51%|█████     | 51/100 [10:23<09:59, 12.23s/it]"
     ]
    },
    {
     "name": "stdout",
     "output_type": "stream",
     "text": [
      "Epoch 50: Acc=0.9847, F1=0.9847, AUROC=0.9985, AUPRC=0.9971\n"
     ]
    },
    {
     "name": "stderr",
     "output_type": "stream",
     "text": [
      "Fold 2:  61%|██████    | 61/100 [12:25<07:55, 12.19s/it]"
     ]
    },
    {
     "name": "stdout",
     "output_type": "stream",
     "text": [
      "Epoch 60: Acc=0.9848, F1=0.9847, AUROC=0.9985, AUPRC=0.9971\n"
     ]
    },
    {
     "name": "stderr",
     "output_type": "stream",
     "text": [
      "Fold 2:  71%|███████   | 71/100 [14:27<05:53, 12.20s/it]"
     ]
    },
    {
     "name": "stdout",
     "output_type": "stream",
     "text": [
      "Epoch 70: Acc=0.9856, F1=0.9856, AUROC=0.9986, AUPRC=0.9973\n"
     ]
    },
    {
     "name": "stderr",
     "output_type": "stream",
     "text": [
      "Fold 2:  81%|████████  | 81/100 [16:29<03:51, 12.21s/it]"
     ]
    },
    {
     "name": "stdout",
     "output_type": "stream",
     "text": [
      "Epoch 80: Acc=0.9848, F1=0.9849, AUROC=0.9987, AUPRC=0.9974\n"
     ]
    },
    {
     "name": "stderr",
     "output_type": "stream",
     "text": [
      "Fold 2:  91%|█████████ | 91/100 [18:31<01:49, 12.21s/it]"
     ]
    },
    {
     "name": "stdout",
     "output_type": "stream",
     "text": [
      "Epoch 90: Acc=0.9861, F1=0.9862, AUROC=0.9987, AUPRC=0.9976\n"
     ]
    },
    {
     "name": "stderr",
     "output_type": "stream",
     "text": [
      "Fold 2:  95%|█████████▌| 95/100 [19:32<01:01, 12.34s/it]"
     ]
    },
    {
     "name": "stdout",
     "output_type": "stream",
     "text": [
      "⏹️ Early stopping at epoch 96\n",
      "✅ Best Acc for Fold 2: 0.9988\n"
     ]
    },
    {
     "name": "stderr",
     "output_type": "stream",
     "text": [
      "\n"
     ]
    },
    {
     "name": "stdout",
     "output_type": "stream",
     "text": [
      "Current memory usage: 23.25 GB\n",
      "\n",
      "🔁 Fold 3\n",
      "Val label 0: 65656 samples\n",
      "Val label 1: 29648 samples\n",
      "Pre-training stats: Acc=0.4053, F1=0.4693, AUROC=0.4170, AUPRC=0.2645\n"
     ]
    },
    {
     "name": "stderr",
     "output_type": "stream",
     "text": [
      "Fold 3:   1%|          | 1/100 [00:12<20:15, 12.27s/it]"
     ]
    },
    {
     "name": "stdout",
     "output_type": "stream",
     "text": [
      "Epoch 0: Acc=0.8867, F1=0.8850, AUROC=0.9385, AUPRC=0.9042\n"
     ]
    },
    {
     "name": "stderr",
     "output_type": "stream",
     "text": [
      "Fold 3:  11%|█         | 11/100 [02:14<18:11, 12.26s/it]"
     ]
    },
    {
     "name": "stdout",
     "output_type": "stream",
     "text": [
      "Epoch 10: Acc=0.9790, F1=0.9790, AUROC=0.9971, AUPRC=0.9946\n"
     ]
    },
    {
     "name": "stderr",
     "output_type": "stream",
     "text": [
      "Fold 3:  21%|██        | 21/100 [04:17<16:06, 12.23s/it]"
     ]
    },
    {
     "name": "stdout",
     "output_type": "stream",
     "text": [
      "Epoch 20: Acc=0.9826, F1=0.9826, AUROC=0.9981, AUPRC=0.9964\n"
     ]
    },
    {
     "name": "stderr",
     "output_type": "stream",
     "text": [
      "Fold 3:  31%|███       | 31/100 [06:19<14:03, 12.23s/it]"
     ]
    },
    {
     "name": "stdout",
     "output_type": "stream",
     "text": [
      "Epoch 30: Acc=0.9844, F1=0.9844, AUROC=0.9984, AUPRC=0.9969\n"
     ]
    },
    {
     "name": "stderr",
     "output_type": "stream",
     "text": [
      "Fold 3:  41%|████      | 41/100 [08:21<12:01, 12.23s/it]"
     ]
    },
    {
     "name": "stdout",
     "output_type": "stream",
     "text": [
      "Epoch 40: Acc=0.9851, F1=0.9851, AUROC=0.9986, AUPRC=0.9973\n"
     ]
    },
    {
     "name": "stderr",
     "output_type": "stream",
     "text": [
      "Fold 3:  51%|█████     | 51/100 [10:23<09:58, 12.21s/it]"
     ]
    },
    {
     "name": "stdout",
     "output_type": "stream",
     "text": [
      "Epoch 50: Acc=0.9864, F1=0.9863, AUROC=0.9986, AUPRC=0.9974\n"
     ]
    },
    {
     "name": "stderr",
     "output_type": "stream",
     "text": [
      "Fold 3:  61%|██████    | 61/100 [12:25<07:56, 12.22s/it]"
     ]
    },
    {
     "name": "stdout",
     "output_type": "stream",
     "text": [
      "Epoch 60: Acc=0.9821, F1=0.9822, AUROC=0.9986, AUPRC=0.9974\n"
     ]
    },
    {
     "name": "stderr",
     "output_type": "stream",
     "text": [
      "Fold 3:  67%|██████▋   | 67/100 [13:51<06:49, 12.41s/it]"
     ]
    },
    {
     "name": "stdout",
     "output_type": "stream",
     "text": [
      "⏹️ Early stopping at epoch 68\n",
      "✅ Best Acc for Fold 3: 0.9988\n"
     ]
    },
    {
     "name": "stderr",
     "output_type": "stream",
     "text": [
      "\n"
     ]
    },
    {
     "name": "stdout",
     "output_type": "stream",
     "text": [
      "Current memory usage: 23.26 GB\n",
      "\n",
      "🔁 Fold 4\n",
      "Val label 0: 65656 samples\n",
      "Val label 1: 29647 samples\n",
      "Pre-training stats: Acc=0.6863, F1=0.5623, AUROC=0.4942, AUPRC=0.3090\n"
     ]
    },
    {
     "name": "stderr",
     "output_type": "stream",
     "text": [
      "Fold 4:   1%|          | 1/100 [00:12<20:16, 12.28s/it]"
     ]
    },
    {
     "name": "stdout",
     "output_type": "stream",
     "text": [
      "Epoch 0: Acc=0.8965, F1=0.8950, AUROC=0.9468, AUPRC=0.9174\n"
     ]
    },
    {
     "name": "stderr",
     "output_type": "stream",
     "text": [
      "Fold 4:  11%|█         | 11/100 [02:15<18:10, 12.25s/it]"
     ]
    },
    {
     "name": "stdout",
     "output_type": "stream",
     "text": [
      "Epoch 10: Acc=0.9790, F1=0.9790, AUROC=0.9975, AUPRC=0.9951\n"
     ]
    },
    {
     "name": "stderr",
     "output_type": "stream",
     "text": [
      "Fold 4:  21%|██        | 21/100 [04:17<16:07, 12.25s/it]"
     ]
    },
    {
     "name": "stdout",
     "output_type": "stream",
     "text": [
      "Epoch 20: Acc=0.9827, F1=0.9827, AUROC=0.9983, AUPRC=0.9965\n"
     ]
    },
    {
     "name": "stderr",
     "output_type": "stream",
     "text": [
      "Fold 4:  31%|███       | 31/100 [06:19<14:05, 12.26s/it]"
     ]
    },
    {
     "name": "stdout",
     "output_type": "stream",
     "text": [
      "Epoch 30: Acc=0.9840, F1=0.9839, AUROC=0.9985, AUPRC=0.9970\n"
     ]
    },
    {
     "name": "stderr",
     "output_type": "stream",
     "text": [
      "Fold 4:  41%|████      | 41/100 [08:22<11:58, 12.18s/it]"
     ]
    },
    {
     "name": "stdout",
     "output_type": "stream",
     "text": [
      "Epoch 40: Acc=0.9845, F1=0.9845, AUROC=0.9986, AUPRC=0.9971\n"
     ]
    },
    {
     "name": "stderr",
     "output_type": "stream",
     "text": [
      "Fold 4:  51%|█████     | 51/100 [10:24<09:58, 12.22s/it]"
     ]
    },
    {
     "name": "stdout",
     "output_type": "stream",
     "text": [
      "Epoch 50: Acc=0.9850, F1=0.9850, AUROC=0.9986, AUPRC=0.9973\n"
     ]
    },
    {
     "name": "stderr",
     "output_type": "stream",
     "text": [
      "Fold 4:  61%|██████    | 61/100 [12:26<07:54, 12.17s/it]"
     ]
    },
    {
     "name": "stdout",
     "output_type": "stream",
     "text": [
      "Epoch 60: Acc=0.9849, F1=0.9849, AUROC=0.9986, AUPRC=0.9973\n"
     ]
    },
    {
     "name": "stderr",
     "output_type": "stream",
     "text": [
      "Fold 4:  71%|███████   | 71/100 [14:27<05:54, 12.23s/it]"
     ]
    },
    {
     "name": "stdout",
     "output_type": "stream",
     "text": [
      "Epoch 70: Acc=0.9860, F1=0.9860, AUROC=0.9988, AUPRC=0.9976\n"
     ]
    },
    {
     "name": "stderr",
     "output_type": "stream",
     "text": [
      "Fold 4:  80%|████████  | 80/100 [16:29<04:07, 12.37s/it]"
     ]
    },
    {
     "name": "stdout",
     "output_type": "stream",
     "text": [
      "Epoch 80: Acc=0.9858, F1=0.9858, AUROC=0.9987, AUPRC=0.9975\n",
      "⏹️ Early stopping at epoch 81\n",
      "✅ Best Acc for Fold 4: 0.9988\n"
     ]
    },
    {
     "name": "stderr",
     "output_type": "stream",
     "text": [
      "\n"
     ]
    },
    {
     "name": "stdout",
     "output_type": "stream",
     "text": [
      "Current memory usage: 23.26 GB\n",
      "\n",
      "🔁 Fold 5\n",
      "Val label 0: 65656 samples\n",
      "Val label 1: 29647 samples\n",
      "Pre-training stats: Acc=0.0035, F1=0.0068, AUROC=0.4804, AUPRC=0.2965\n"
     ]
    },
    {
     "name": "stderr",
     "output_type": "stream",
     "text": [
      "Fold 5:   1%|          | 1/100 [00:12<20:06, 12.18s/it]"
     ]
    },
    {
     "name": "stdout",
     "output_type": "stream",
     "text": [
      "Epoch 0: Acc=0.8851, F1=0.8841, AUROC=0.9383, AUPRC=0.9043\n"
     ]
    },
    {
     "name": "stderr",
     "output_type": "stream",
     "text": [
      "Fold 5:  11%|█         | 11/100 [02:14<18:11, 12.26s/it]"
     ]
    },
    {
     "name": "stdout",
     "output_type": "stream",
     "text": [
      "Epoch 10: Acc=0.9764, F1=0.9764, AUROC=0.9971, AUPRC=0.9946\n"
     ]
    },
    {
     "name": "stderr",
     "output_type": "stream",
     "text": [
      "Fold 5:  21%|██        | 21/100 [04:16<16:05, 12.22s/it]"
     ]
    },
    {
     "name": "stdout",
     "output_type": "stream",
     "text": [
      "Epoch 20: Acc=0.9789, F1=0.9789, AUROC=0.9980, AUPRC=0.9962\n"
     ]
    },
    {
     "name": "stderr",
     "output_type": "stream",
     "text": [
      "Fold 5:  31%|███       | 31/100 [06:19<14:03, 12.23s/it]"
     ]
    },
    {
     "name": "stdout",
     "output_type": "stream",
     "text": [
      "Epoch 30: Acc=0.9811, F1=0.9812, AUROC=0.9983, AUPRC=0.9968\n"
     ]
    },
    {
     "name": "stderr",
     "output_type": "stream",
     "text": [
      "Fold 5:  41%|████      | 41/100 [08:21<12:01, 12.23s/it]"
     ]
    },
    {
     "name": "stdout",
     "output_type": "stream",
     "text": [
      "Epoch 40: Acc=0.9824, F1=0.9825, AUROC=0.9982, AUPRC=0.9968\n"
     ]
    },
    {
     "name": "stderr",
     "output_type": "stream",
     "text": [
      "Fold 5:  51%|█████     | 51/100 [10:23<09:58, 12.22s/it]"
     ]
    },
    {
     "name": "stdout",
     "output_type": "stream",
     "text": [
      "Epoch 50: Acc=0.9832, F1=0.9832, AUROC=0.9985, AUPRC=0.9973\n"
     ]
    },
    {
     "name": "stderr",
     "output_type": "stream",
     "text": [
      "Fold 5:  61%|██████    | 61/100 [12:26<07:58, 12.27s/it]"
     ]
    },
    {
     "name": "stdout",
     "output_type": "stream",
     "text": [
      "Epoch 60: Acc=0.9861, F1=0.9861, AUROC=0.9987, AUPRC=0.9975\n"
     ]
    },
    {
     "name": "stderr",
     "output_type": "stream",
     "text": [
      "Fold 5:  71%|███████   | 71/100 [14:28<05:54, 12.24s/it]"
     ]
    },
    {
     "name": "stdout",
     "output_type": "stream",
     "text": [
      "Epoch 70: Acc=0.9864, F1=0.9864, AUROC=0.9988, AUPRC=0.9976\n"
     ]
    },
    {
     "name": "stderr",
     "output_type": "stream",
     "text": [
      "Fold 5:  81%|████████  | 81/100 [16:30<03:51, 12.21s/it]"
     ]
    },
    {
     "name": "stdout",
     "output_type": "stream",
     "text": [
      "Epoch 80: Acc=0.9860, F1=0.9860, AUROC=0.9989, AUPRC=0.9978\n"
     ]
    },
    {
     "name": "stderr",
     "output_type": "stream",
     "text": [
      "Fold 5:  91%|█████████ | 91/100 [18:32<01:49, 12.20s/it]"
     ]
    },
    {
     "name": "stdout",
     "output_type": "stream",
     "text": [
      "Epoch 90: Acc=0.9870, F1=0.9870, AUROC=0.9988, AUPRC=0.9977\n"
     ]
    },
    {
     "name": "stderr",
     "output_type": "stream",
     "text": [
      "Fold 5:  95%|█████████▌| 95/100 [19:33<01:01, 12.35s/it]"
     ]
    },
    {
     "name": "stdout",
     "output_type": "stream",
     "text": [
      "⏹️ Early stopping at epoch 96\n",
      "✅ Best Acc for Fold 5: 0.9989\n",
      "🎉 Finished 5-fold CV with contrastive + CE loss.\n"
     ]
    },
    {
     "name": "stderr",
     "output_type": "stream",
     "text": [
      "\n"
     ]
    }
   ],
   "source": [
    "for gamma in [0.0, 0.1, 0.2, 0.5, 1.0, 2.0, 3.0, 4.0, 5.0]:\n",
    "    print('*'*10, gamma, '*'*10)\n",
    "    save_dir = '/scratch/gilbreth/wang3712/Metastasis_single_cell/scMeta_5fol_CV_gamma'+str(gamma)+'/'\n",
    "    \n",
    "\n",
    "    run_fold_cv(\n",
    "        data,\n",
    "        save_dir=save_dir,\n",
    "        epochs=100,\n",
    "        patience=10,\n",
    "        gamma=gamma\n",
    "    )"
   ]
  },
  {
   "cell_type": "markdown",
   "id": "763aaec1-4dfe-406d-a297-c0f49e653540",
   "metadata": {},
   "source": [
    "# Evaluate"
   ]
  },
  {
   "cell_type": "markdown",
   "id": "be28a831-f115-4f4a-b4f0-1be82bbd0444",
   "metadata": {},
   "source": [
    "This is what is reported in the paper."
   ]
  },
  {
   "cell_type": "code",
   "execution_count": 21,
   "id": "77617e2d-74f3-4488-a939-602c8f335676",
   "metadata": {},
   "outputs": [
    {
     "name": "stdout",
     "output_type": "stream",
     "text": [
      "******************** 0.0 ********************\n"
     ]
    },
    {
     "data": {
      "text/html": [
       "<div>\n",
       "<style scoped>\n",
       "    .dataframe tbody tr th:only-of-type {\n",
       "        vertical-align: middle;\n",
       "    }\n",
       "\n",
       "    .dataframe tbody tr th {\n",
       "        vertical-align: top;\n",
       "    }\n",
       "\n",
       "    .dataframe thead th {\n",
       "        text-align: right;\n",
       "    }\n",
       "</style>\n",
       "<table border=\"1\" class=\"dataframe\">\n",
       "  <thead>\n",
       "    <tr style=\"text-align: right;\">\n",
       "      <th></th>\n",
       "      <th>ACC</th>\n",
       "      <th>F1</th>\n",
       "      <th>AUROC</th>\n",
       "      <th>AUPRC</th>\n",
       "    </tr>\n",
       "    <tr>\n",
       "      <th>Fold</th>\n",
       "      <th></th>\n",
       "      <th></th>\n",
       "      <th></th>\n",
       "      <th></th>\n",
       "    </tr>\n",
       "  </thead>\n",
       "  <tbody>\n",
       "    <tr>\n",
       "      <th>1</th>\n",
       "      <td>0.986601</td>\n",
       "      <td>0.986591</td>\n",
       "      <td>0.998690</td>\n",
       "      <td>0.997547</td>\n",
       "    </tr>\n",
       "    <tr>\n",
       "      <th>2</th>\n",
       "      <td>0.986034</td>\n",
       "      <td>0.986044</td>\n",
       "      <td>0.998678</td>\n",
       "      <td>0.997440</td>\n",
       "    </tr>\n",
       "    <tr>\n",
       "      <th>3</th>\n",
       "      <td>0.983873</td>\n",
       "      <td>0.983907</td>\n",
       "      <td>0.998555</td>\n",
       "      <td>0.997206</td>\n",
       "    </tr>\n",
       "    <tr>\n",
       "      <th>4</th>\n",
       "      <td>0.986580</td>\n",
       "      <td>0.986597</td>\n",
       "      <td>0.998862</td>\n",
       "      <td>0.997807</td>\n",
       "    </tr>\n",
       "    <tr>\n",
       "      <th>5</th>\n",
       "      <td>0.987125</td>\n",
       "      <td>0.987123</td>\n",
       "      <td>0.998819</td>\n",
       "      <td>0.997772</td>\n",
       "    </tr>\n",
       "  </tbody>\n",
       "</table>\n",
       "</div>"
      ],
      "text/plain": [
       "           ACC        F1     AUROC     AUPRC\n",
       "Fold                                        \n",
       "1     0.986601  0.986591  0.998690  0.997547\n",
       "2     0.986034  0.986044  0.998678  0.997440\n",
       "3     0.983873  0.983907  0.998555  0.997206\n",
       "4     0.986580  0.986597  0.998862  0.997807\n",
       "5     0.987125  0.987123  0.998819  0.997772"
      ]
     },
     "metadata": {},
     "output_type": "display_data"
    },
    {
     "name": "stdout",
     "output_type": "stream",
     "text": [
      "******************** 0.1 ********************\n"
     ]
    },
    {
     "data": {
      "text/html": [
       "<div>\n",
       "<style scoped>\n",
       "    .dataframe tbody tr th:only-of-type {\n",
       "        vertical-align: middle;\n",
       "    }\n",
       "\n",
       "    .dataframe tbody tr th {\n",
       "        vertical-align: top;\n",
       "    }\n",
       "\n",
       "    .dataframe thead th {\n",
       "        text-align: right;\n",
       "    }\n",
       "</style>\n",
       "<table border=\"1\" class=\"dataframe\">\n",
       "  <thead>\n",
       "    <tr style=\"text-align: right;\">\n",
       "      <th></th>\n",
       "      <th>ACC</th>\n",
       "      <th>F1</th>\n",
       "      <th>AUROC</th>\n",
       "      <th>AUPRC</th>\n",
       "    </tr>\n",
       "    <tr>\n",
       "      <th>Fold</th>\n",
       "      <th></th>\n",
       "      <th></th>\n",
       "      <th></th>\n",
       "      <th></th>\n",
       "    </tr>\n",
       "  </thead>\n",
       "  <tbody>\n",
       "    <tr>\n",
       "      <th>1</th>\n",
       "      <td>0.984618</td>\n",
       "      <td>0.984638</td>\n",
       "      <td>0.998600</td>\n",
       "      <td>0.997316</td>\n",
       "    </tr>\n",
       "    <tr>\n",
       "      <th>2</th>\n",
       "      <td>0.985761</td>\n",
       "      <td>0.985761</td>\n",
       "      <td>0.998610</td>\n",
       "      <td>0.997328</td>\n",
       "    </tr>\n",
       "    <tr>\n",
       "      <th>3</th>\n",
       "      <td>0.986485</td>\n",
       "      <td>0.986460</td>\n",
       "      <td>0.998877</td>\n",
       "      <td>0.997780</td>\n",
       "    </tr>\n",
       "    <tr>\n",
       "      <th>4</th>\n",
       "      <td>0.986370</td>\n",
       "      <td>0.986373</td>\n",
       "      <td>0.998889</td>\n",
       "      <td>0.997802</td>\n",
       "    </tr>\n",
       "    <tr>\n",
       "      <th>5</th>\n",
       "      <td>0.985667</td>\n",
       "      <td>0.985670</td>\n",
       "      <td>0.998779</td>\n",
       "      <td>0.997578</td>\n",
       "    </tr>\n",
       "  </tbody>\n",
       "</table>\n",
       "</div>"
      ],
      "text/plain": [
       "           ACC        F1     AUROC     AUPRC\n",
       "Fold                                        \n",
       "1     0.984618  0.984638  0.998600  0.997316\n",
       "2     0.985761  0.985761  0.998610  0.997328\n",
       "3     0.986485  0.986460  0.998877  0.997780\n",
       "4     0.986370  0.986373  0.998889  0.997802\n",
       "5     0.985667  0.985670  0.998779  0.997578"
      ]
     },
     "metadata": {},
     "output_type": "display_data"
    },
    {
     "name": "stdout",
     "output_type": "stream",
     "text": [
      "******************** 0.2 ********************\n"
     ]
    },
    {
     "data": {
      "text/html": [
       "<div>\n",
       "<style scoped>\n",
       "    .dataframe tbody tr th:only-of-type {\n",
       "        vertical-align: middle;\n",
       "    }\n",
       "\n",
       "    .dataframe tbody tr th {\n",
       "        vertical-align: top;\n",
       "    }\n",
       "\n",
       "    .dataframe thead th {\n",
       "        text-align: right;\n",
       "    }\n",
       "</style>\n",
       "<table border=\"1\" class=\"dataframe\">\n",
       "  <thead>\n",
       "    <tr style=\"text-align: right;\">\n",
       "      <th></th>\n",
       "      <th>ACC</th>\n",
       "      <th>F1</th>\n",
       "      <th>AUROC</th>\n",
       "      <th>AUPRC</th>\n",
       "    </tr>\n",
       "    <tr>\n",
       "      <th>Fold</th>\n",
       "      <th></th>\n",
       "      <th></th>\n",
       "      <th></th>\n",
       "      <th></th>\n",
       "    </tr>\n",
       "  </thead>\n",
       "  <tbody>\n",
       "    <tr>\n",
       "      <th>1</th>\n",
       "      <td>0.986464</td>\n",
       "      <td>0.986466</td>\n",
       "      <td>0.998722</td>\n",
       "      <td>0.997626</td>\n",
       "    </tr>\n",
       "    <tr>\n",
       "      <th>2</th>\n",
       "      <td>0.986055</td>\n",
       "      <td>0.986026</td>\n",
       "      <td>0.998710</td>\n",
       "      <td>0.997472</td>\n",
       "    </tr>\n",
       "    <tr>\n",
       "      <th>3</th>\n",
       "      <td>0.986139</td>\n",
       "      <td>0.986132</td>\n",
       "      <td>0.998726</td>\n",
       "      <td>0.997577</td>\n",
       "    </tr>\n",
       "    <tr>\n",
       "      <th>4</th>\n",
       "      <td>0.984145</td>\n",
       "      <td>0.984188</td>\n",
       "      <td>0.998813</td>\n",
       "      <td>0.997642</td>\n",
       "    </tr>\n",
       "    <tr>\n",
       "      <th>5</th>\n",
       "      <td>0.985950</td>\n",
       "      <td>0.985948</td>\n",
       "      <td>0.998782</td>\n",
       "      <td>0.997615</td>\n",
       "    </tr>\n",
       "  </tbody>\n",
       "</table>\n",
       "</div>"
      ],
      "text/plain": [
       "           ACC        F1     AUROC     AUPRC\n",
       "Fold                                        \n",
       "1     0.986464  0.986466  0.998722  0.997626\n",
       "2     0.986055  0.986026  0.998710  0.997472\n",
       "3     0.986139  0.986132  0.998726  0.997577\n",
       "4     0.984145  0.984188  0.998813  0.997642\n",
       "5     0.985950  0.985948  0.998782  0.997615"
      ]
     },
     "metadata": {},
     "output_type": "display_data"
    },
    {
     "name": "stdout",
     "output_type": "stream",
     "text": [
      "******************** 0.5 ********************\n"
     ]
    },
    {
     "data": {
      "text/html": [
       "<div>\n",
       "<style scoped>\n",
       "    .dataframe tbody tr th:only-of-type {\n",
       "        vertical-align: middle;\n",
       "    }\n",
       "\n",
       "    .dataframe tbody tr th {\n",
       "        vertical-align: top;\n",
       "    }\n",
       "\n",
       "    .dataframe thead th {\n",
       "        text-align: right;\n",
       "    }\n",
       "</style>\n",
       "<table border=\"1\" class=\"dataframe\">\n",
       "  <thead>\n",
       "    <tr style=\"text-align: right;\">\n",
       "      <th></th>\n",
       "      <th>ACC</th>\n",
       "      <th>F1</th>\n",
       "      <th>AUROC</th>\n",
       "      <th>AUPRC</th>\n",
       "    </tr>\n",
       "    <tr>\n",
       "      <th>Fold</th>\n",
       "      <th></th>\n",
       "      <th></th>\n",
       "      <th></th>\n",
       "      <th></th>\n",
       "    </tr>\n",
       "  </thead>\n",
       "  <tbody>\n",
       "    <tr>\n",
       "      <th>1</th>\n",
       "      <td>0.986370</td>\n",
       "      <td>0.986367</td>\n",
       "      <td>0.998769</td>\n",
       "      <td>0.997616</td>\n",
       "    </tr>\n",
       "    <tr>\n",
       "      <th>2</th>\n",
       "      <td>0.985142</td>\n",
       "      <td>0.985113</td>\n",
       "      <td>0.998691</td>\n",
       "      <td>0.997385</td>\n",
       "    </tr>\n",
       "    <tr>\n",
       "      <th>3</th>\n",
       "      <td>0.986286</td>\n",
       "      <td>0.986289</td>\n",
       "      <td>0.998866</td>\n",
       "      <td>0.997793</td>\n",
       "    </tr>\n",
       "    <tr>\n",
       "      <th>4</th>\n",
       "      <td>0.986727</td>\n",
       "      <td>0.986718</td>\n",
       "      <td>0.998937</td>\n",
       "      <td>0.997864</td>\n",
       "    </tr>\n",
       "    <tr>\n",
       "      <th>5</th>\n",
       "      <td>0.984838</td>\n",
       "      <td>0.984876</td>\n",
       "      <td>0.998872</td>\n",
       "      <td>0.997816</td>\n",
       "    </tr>\n",
       "  </tbody>\n",
       "</table>\n",
       "</div>"
      ],
      "text/plain": [
       "           ACC        F1     AUROC     AUPRC\n",
       "Fold                                        \n",
       "1     0.986370  0.986367  0.998769  0.997616\n",
       "2     0.985142  0.985113  0.998691  0.997385\n",
       "3     0.986286  0.986289  0.998866  0.997793\n",
       "4     0.986727  0.986718  0.998937  0.997864\n",
       "5     0.984838  0.984876  0.998872  0.997816"
      ]
     },
     "metadata": {},
     "output_type": "display_data"
    },
    {
     "name": "stdout",
     "output_type": "stream",
     "text": [
      "******************** 1.0 ********************\n"
     ]
    },
    {
     "data": {
      "text/html": [
       "<div>\n",
       "<style scoped>\n",
       "    .dataframe tbody tr th:only-of-type {\n",
       "        vertical-align: middle;\n",
       "    }\n",
       "\n",
       "    .dataframe tbody tr th {\n",
       "        vertical-align: top;\n",
       "    }\n",
       "\n",
       "    .dataframe thead th {\n",
       "        text-align: right;\n",
       "    }\n",
       "</style>\n",
       "<table border=\"1\" class=\"dataframe\">\n",
       "  <thead>\n",
       "    <tr style=\"text-align: right;\">\n",
       "      <th></th>\n",
       "      <th>ACC</th>\n",
       "      <th>F1</th>\n",
       "      <th>AUROC</th>\n",
       "      <th>AUPRC</th>\n",
       "    </tr>\n",
       "    <tr>\n",
       "      <th>Fold</th>\n",
       "      <th></th>\n",
       "      <th></th>\n",
       "      <th></th>\n",
       "      <th></th>\n",
       "    </tr>\n",
       "  </thead>\n",
       "  <tbody>\n",
       "    <tr>\n",
       "      <th>1</th>\n",
       "      <td>0.985656</td>\n",
       "      <td>0.985651</td>\n",
       "      <td>0.998667</td>\n",
       "      <td>0.997470</td>\n",
       "    </tr>\n",
       "    <tr>\n",
       "      <th>2</th>\n",
       "      <td>0.985289</td>\n",
       "      <td>0.985292</td>\n",
       "      <td>0.998625</td>\n",
       "      <td>0.997360</td>\n",
       "    </tr>\n",
       "    <tr>\n",
       "      <th>3</th>\n",
       "      <td>0.985877</td>\n",
       "      <td>0.985885</td>\n",
       "      <td>0.998850</td>\n",
       "      <td>0.997712</td>\n",
       "    </tr>\n",
       "    <tr>\n",
       "      <th>4</th>\n",
       "      <td>0.985845</td>\n",
       "      <td>0.985848</td>\n",
       "      <td>0.998710</td>\n",
       "      <td>0.997479</td>\n",
       "    </tr>\n",
       "    <tr>\n",
       "      <th>5</th>\n",
       "      <td>0.987220</td>\n",
       "      <td>0.987218</td>\n",
       "      <td>0.998931</td>\n",
       "      <td>0.997891</td>\n",
       "    </tr>\n",
       "  </tbody>\n",
       "</table>\n",
       "</div>"
      ],
      "text/plain": [
       "           ACC        F1     AUROC     AUPRC\n",
       "Fold                                        \n",
       "1     0.985656  0.985651  0.998667  0.997470\n",
       "2     0.985289  0.985292  0.998625  0.997360\n",
       "3     0.985877  0.985885  0.998850  0.997712\n",
       "4     0.985845  0.985848  0.998710  0.997479\n",
       "5     0.987220  0.987218  0.998931  0.997891"
      ]
     },
     "metadata": {},
     "output_type": "display_data"
    },
    {
     "name": "stdout",
     "output_type": "stream",
     "text": [
      "******************** 2.0 ********************\n"
     ]
    },
    {
     "data": {
      "text/html": [
       "<div>\n",
       "<style scoped>\n",
       "    .dataframe tbody tr th:only-of-type {\n",
       "        vertical-align: middle;\n",
       "    }\n",
       "\n",
       "    .dataframe tbody tr th {\n",
       "        vertical-align: top;\n",
       "    }\n",
       "\n",
       "    .dataframe thead th {\n",
       "        text-align: right;\n",
       "    }\n",
       "</style>\n",
       "<table border=\"1\" class=\"dataframe\">\n",
       "  <thead>\n",
       "    <tr style=\"text-align: right;\">\n",
       "      <th></th>\n",
       "      <th>ACC</th>\n",
       "      <th>F1</th>\n",
       "      <th>AUROC</th>\n",
       "      <th>AUPRC</th>\n",
       "    </tr>\n",
       "    <tr>\n",
       "      <th>Fold</th>\n",
       "      <th></th>\n",
       "      <th></th>\n",
       "      <th></th>\n",
       "      <th></th>\n",
       "    </tr>\n",
       "  </thead>\n",
       "  <tbody>\n",
       "    <tr>\n",
       "      <th>1</th>\n",
       "      <td>0.986255</td>\n",
       "      <td>0.986265</td>\n",
       "      <td>0.998870</td>\n",
       "      <td>0.997841</td>\n",
       "    </tr>\n",
       "    <tr>\n",
       "      <th>2</th>\n",
       "      <td>0.984030</td>\n",
       "      <td>0.984050</td>\n",
       "      <td>0.998518</td>\n",
       "      <td>0.997098</td>\n",
       "    </tr>\n",
       "    <tr>\n",
       "      <th>3</th>\n",
       "      <td>0.986496</td>\n",
       "      <td>0.986493</td>\n",
       "      <td>0.998795</td>\n",
       "      <td>0.997703</td>\n",
       "    </tr>\n",
       "    <tr>\n",
       "      <th>4</th>\n",
       "      <td>0.986496</td>\n",
       "      <td>0.986513</td>\n",
       "      <td>0.998999</td>\n",
       "      <td>0.997992</td>\n",
       "    </tr>\n",
       "    <tr>\n",
       "      <th>5</th>\n",
       "      <td>0.986464</td>\n",
       "      <td>0.986477</td>\n",
       "      <td>0.998958</td>\n",
       "      <td>0.997995</td>\n",
       "    </tr>\n",
       "  </tbody>\n",
       "</table>\n",
       "</div>"
      ],
      "text/plain": [
       "           ACC        F1     AUROC     AUPRC\n",
       "Fold                                        \n",
       "1     0.986255  0.986265  0.998870  0.997841\n",
       "2     0.984030  0.984050  0.998518  0.997098\n",
       "3     0.986496  0.986493  0.998795  0.997703\n",
       "4     0.986496  0.986513  0.998999  0.997992\n",
       "5     0.986464  0.986477  0.998958  0.997995"
      ]
     },
     "metadata": {},
     "output_type": "display_data"
    },
    {
     "name": "stdout",
     "output_type": "stream",
     "text": [
      "******************** 3.0 ********************\n"
     ]
    },
    {
     "data": {
      "text/html": [
       "<div>\n",
       "<style scoped>\n",
       "    .dataframe tbody tr th:only-of-type {\n",
       "        vertical-align: middle;\n",
       "    }\n",
       "\n",
       "    .dataframe tbody tr th {\n",
       "        vertical-align: top;\n",
       "    }\n",
       "\n",
       "    .dataframe thead th {\n",
       "        text-align: right;\n",
       "    }\n",
       "</style>\n",
       "<table border=\"1\" class=\"dataframe\">\n",
       "  <thead>\n",
       "    <tr style=\"text-align: right;\">\n",
       "      <th></th>\n",
       "      <th>ACC</th>\n",
       "      <th>F1</th>\n",
       "      <th>AUROC</th>\n",
       "      <th>AUPRC</th>\n",
       "    </tr>\n",
       "    <tr>\n",
       "      <th>Fold</th>\n",
       "      <th></th>\n",
       "      <th></th>\n",
       "      <th></th>\n",
       "      <th></th>\n",
       "    </tr>\n",
       "  </thead>\n",
       "  <tbody>\n",
       "    <tr>\n",
       "      <th>1</th>\n",
       "      <td>0.986622</td>\n",
       "      <td>0.986601</td>\n",
       "      <td>0.998868</td>\n",
       "      <td>0.997795</td>\n",
       "    </tr>\n",
       "    <tr>\n",
       "      <th>2</th>\n",
       "      <td>0.984670</td>\n",
       "      <td>0.984655</td>\n",
       "      <td>0.998490</td>\n",
       "      <td>0.997072</td>\n",
       "    </tr>\n",
       "    <tr>\n",
       "      <th>3</th>\n",
       "      <td>0.986139</td>\n",
       "      <td>0.986115</td>\n",
       "      <td>0.998782</td>\n",
       "      <td>0.997604</td>\n",
       "    </tr>\n",
       "    <tr>\n",
       "      <th>4</th>\n",
       "      <td>0.987314</td>\n",
       "      <td>0.987315</td>\n",
       "      <td>0.998978</td>\n",
       "      <td>0.998013</td>\n",
       "    </tr>\n",
       "    <tr>\n",
       "      <th>5</th>\n",
       "      <td>0.986559</td>\n",
       "      <td>0.986556</td>\n",
       "      <td>0.998949</td>\n",
       "      <td>0.997893</td>\n",
       "    </tr>\n",
       "  </tbody>\n",
       "</table>\n",
       "</div>"
      ],
      "text/plain": [
       "           ACC        F1     AUROC     AUPRC\n",
       "Fold                                        \n",
       "1     0.986622  0.986601  0.998868  0.997795\n",
       "2     0.984670  0.984655  0.998490  0.997072\n",
       "3     0.986139  0.986115  0.998782  0.997604\n",
       "4     0.987314  0.987315  0.998978  0.998013\n",
       "5     0.986559  0.986556  0.998949  0.997893"
      ]
     },
     "metadata": {},
     "output_type": "display_data"
    },
    {
     "name": "stdout",
     "output_type": "stream",
     "text": [
      "******************** 4.0 ********************\n"
     ]
    },
    {
     "data": {
      "text/html": [
       "<div>\n",
       "<style scoped>\n",
       "    .dataframe tbody tr th:only-of-type {\n",
       "        vertical-align: middle;\n",
       "    }\n",
       "\n",
       "    .dataframe tbody tr th {\n",
       "        vertical-align: top;\n",
       "    }\n",
       "\n",
       "    .dataframe thead th {\n",
       "        text-align: right;\n",
       "    }\n",
       "</style>\n",
       "<table border=\"1\" class=\"dataframe\">\n",
       "  <thead>\n",
       "    <tr style=\"text-align: right;\">\n",
       "      <th></th>\n",
       "      <th>ACC</th>\n",
       "      <th>F1</th>\n",
       "      <th>AUROC</th>\n",
       "      <th>AUPRC</th>\n",
       "    </tr>\n",
       "    <tr>\n",
       "      <th>Fold</th>\n",
       "      <th></th>\n",
       "      <th></th>\n",
       "      <th></th>\n",
       "      <th></th>\n",
       "    </tr>\n",
       "  </thead>\n",
       "  <tbody>\n",
       "    <tr>\n",
       "      <th>1</th>\n",
       "      <td>0.985237</td>\n",
       "      <td>0.985187</td>\n",
       "      <td>0.998668</td>\n",
       "      <td>0.997442</td>\n",
       "    </tr>\n",
       "    <tr>\n",
       "      <th>2</th>\n",
       "      <td>0.986160</td>\n",
       "      <td>0.986155</td>\n",
       "      <td>0.998734</td>\n",
       "      <td>0.997506</td>\n",
       "    </tr>\n",
       "    <tr>\n",
       "      <th>3</th>\n",
       "      <td>0.987083</td>\n",
       "      <td>0.987071</td>\n",
       "      <td>0.998964</td>\n",
       "      <td>0.997944</td>\n",
       "    </tr>\n",
       "    <tr>\n",
       "      <th>4</th>\n",
       "      <td>0.986412</td>\n",
       "      <td>0.986401</td>\n",
       "      <td>0.998775</td>\n",
       "      <td>0.997648</td>\n",
       "    </tr>\n",
       "    <tr>\n",
       "      <th>5</th>\n",
       "      <td>0.986926</td>\n",
       "      <td>0.986940</td>\n",
       "      <td>0.998995</td>\n",
       "      <td>0.998029</td>\n",
       "    </tr>\n",
       "  </tbody>\n",
       "</table>\n",
       "</div>"
      ],
      "text/plain": [
       "           ACC        F1     AUROC     AUPRC\n",
       "Fold                                        \n",
       "1     0.985237  0.985187  0.998668  0.997442\n",
       "2     0.986160  0.986155  0.998734  0.997506\n",
       "3     0.987083  0.987071  0.998964  0.997944\n",
       "4     0.986412  0.986401  0.998775  0.997648\n",
       "5     0.986926  0.986940  0.998995  0.998029"
      ]
     },
     "metadata": {},
     "output_type": "display_data"
    },
    {
     "name": "stdout",
     "output_type": "stream",
     "text": [
      "******************** 5.0 ********************\n"
     ]
    },
    {
     "data": {
      "text/html": [
       "<div>\n",
       "<style scoped>\n",
       "    .dataframe tbody tr th:only-of-type {\n",
       "        vertical-align: middle;\n",
       "    }\n",
       "\n",
       "    .dataframe tbody tr th {\n",
       "        vertical-align: top;\n",
       "    }\n",
       "\n",
       "    .dataframe thead th {\n",
       "        text-align: right;\n",
       "    }\n",
       "</style>\n",
       "<table border=\"1\" class=\"dataframe\">\n",
       "  <thead>\n",
       "    <tr style=\"text-align: right;\">\n",
       "      <th></th>\n",
       "      <th>ACC</th>\n",
       "      <th>F1</th>\n",
       "      <th>AUROC</th>\n",
       "      <th>AUPRC</th>\n",
       "    </tr>\n",
       "    <tr>\n",
       "      <th>Fold</th>\n",
       "      <th></th>\n",
       "      <th></th>\n",
       "      <th></th>\n",
       "      <th></th>\n",
       "    </tr>\n",
       "  </thead>\n",
       "  <tbody>\n",
       "    <tr>\n",
       "      <th>1</th>\n",
       "      <td>0.987314</td>\n",
       "      <td>0.987295</td>\n",
       "      <td>0.998910</td>\n",
       "      <td>0.997891</td>\n",
       "    </tr>\n",
       "    <tr>\n",
       "      <th>2</th>\n",
       "      <td>0.986223</td>\n",
       "      <td>0.986226</td>\n",
       "      <td>0.998844</td>\n",
       "      <td>0.997605</td>\n",
       "    </tr>\n",
       "    <tr>\n",
       "      <th>3</th>\n",
       "      <td>0.984932</td>\n",
       "      <td>0.984964</td>\n",
       "      <td>0.998751</td>\n",
       "      <td>0.997603</td>\n",
       "    </tr>\n",
       "    <tr>\n",
       "      <th>4</th>\n",
       "      <td>0.986024</td>\n",
       "      <td>0.986011</td>\n",
       "      <td>0.998794</td>\n",
       "      <td>0.997571</td>\n",
       "    </tr>\n",
       "    <tr>\n",
       "      <th>5</th>\n",
       "      <td>0.987083</td>\n",
       "      <td>0.987075</td>\n",
       "      <td>0.998929</td>\n",
       "      <td>0.997931</td>\n",
       "    </tr>\n",
       "  </tbody>\n",
       "</table>\n",
       "</div>"
      ],
      "text/plain": [
       "           ACC        F1     AUROC     AUPRC\n",
       "Fold                                        \n",
       "1     0.987314  0.987295  0.998910  0.997891\n",
       "2     0.986223  0.986226  0.998844  0.997605\n",
       "3     0.984932  0.984964  0.998751  0.997603\n",
       "4     0.986024  0.986011  0.998794  0.997571\n",
       "5     0.987083  0.987075  0.998929  0.997931"
      ]
     },
     "metadata": {},
     "output_type": "display_data"
    }
   ],
   "source": [
    "from sklearn.metrics import accuracy_score, f1_score, roc_auc_score, average_precision_score, confusion_matrix\n",
    "\n",
    "device = torch.device(\"cuda\" if torch.cuda.is_available() else \"cpu\")\n",
    "all_results = dict()\n",
    "for gamma in [0.0, 0.1, 0.2, 0.5, 1.0, 2.0, 3.0, 4.0, 5.0]:\n",
    "    print('*'*20, gamma, '*'*20)\n",
    "    all_results[gamma] = dict()\n",
    "    save_dir = '/scratch/gilbreth/wang3712/Metastasis_single_cell/scMeta_5fol_CV_gamma'+str(gamma)+'/'\n",
    "\n",
    "    class_names = [\"Non-metastatic local\", \"Metastatic local\", \"Metastatic distant\"]\n",
    "\n",
    "    all_y_true = []\n",
    "    all_y_pred = []\n",
    "    all_y_prob = []\n",
    "\n",
    "    metrics_df = []\n",
    "\n",
    "    for fold, fold_dict in enumerate(data.cv_folds):\n",
    "        val_idx = fold_dict[\"val_idx\"]\n",
    "        x_val = data.x[val_idx].to(device)\n",
    "        y_val = data.y[val_idx].to(device)\n",
    "        y_binary_val = y_binary[val_idx]\n",
    "\n",
    "        model = scMeta(\n",
    "            input_dim=data.num_node_features,\n",
    "            hidden_dim=128,\n",
    "            num_classes=3\n",
    "        ).to(device)\n",
    "\n",
    "        model_path = os.path.join(save_dir, f\"fold{fold + 1}_best_model.pt\")\n",
    "        if not os.path.exists(model_path):\n",
    "            print(f\"Missing model {model_path}, skipping\")\n",
    "            continue\n",
    "\n",
    "        model.load_state_dict(torch.load(model_path))\n",
    "        \n",
    "        model.eval()\n",
    "\n",
    "        acc, f1, auc, auprc, _, _ = evaluate(\n",
    "            model, x_val, y_val, y_binary_val, device\n",
    "        )\n",
    "        \n",
    "        \n",
    "        metrics_df.append({\n",
    "            \"Fold\": fold + 1,\n",
    "            \"ACC\": acc,\n",
    "            \"F1\": f1,\n",
    "            \"AUROC\": auc,\n",
    "            \"AUPRC\": auprc\n",
    "        })\n",
    "\n",
    "    # Save metrics\n",
    "    df_metrics = pd.DataFrame(metrics_df).set_index(\"Fold\")\n",
    "    display(df_metrics)\n",
    "    all_results[gamma] = df_metrics\n"
   ]
  },
  {
   "cell_type": "code",
   "execution_count": 26,
   "id": "1c63a95a-5a65-4ad4-8896-084cddba5add",
   "metadata": {},
   "outputs": [
    {
     "name": "stdout",
     "output_type": "stream",
     "text": [
      "******************** 0.0 ********************\n",
      "[0.9860425033680016, 0.9860522990925726, 0.998720882952699, 0.9975545547207133]\n",
      "0.9920925600334967\n",
      "******************** 0.1 ********************\n",
      "[0.985780181391247, 0.9857805095883887, 0.9987509736326154, 0.9975608576843614]\n",
      "0.9919681305741531\n",
      "******************** 0.2 ********************\n",
      "[0.9857507976483253, 0.9857518600148234, 0.9987505929291247, 0.997586331746572]\n",
      "0.9919598955847114\n",
      "******************** 0.5 ********************\n",
      "[0.985872516503775, 0.9858725081326352, 0.9988271966451739, 0.9976950109390552]\n",
      "0.9920668080551598\n",
      "******************** 1.0 ********************\n",
      "[0.9859774470428446, 0.9859787287881063, 0.9987566560083032, 0.9975822296332902]\n",
      "0.9920737653681361\n",
      "******************** 2.0 ********************\n",
      "[0.9859480671533781, 0.9859595601579804, 0.9988280062331913, 0.9977256011344823]\n",
      "0.992115308669758\n",
      "******************** 3.0 ********************\n",
      "[0.9862607526920291, 0.9862484382575186, 0.9988131943663445, 0.9976754114341884]\n",
      "0.9922494491875202\n",
      "******************** 4.0 ********************\n",
      "[0.986363580411463, 0.9863508107107324, 0.9988271095500834, 0.9977138612839443]\n",
      "0.9923138404890558\n",
      "******************** 5.0 ********************\n",
      "[0.9863153133275155, 0.9863143665762039, 0.9988453573511766, 0.9977201560624567]\n",
      "0.9922987983293381\n"
     ]
    }
   ],
   "source": [
    "metrics = ['ACC', 'F1', 'AUROC', 'AUPRC']\n",
    "for gamma in all_results.keys():\n",
    "    print('*'*20, gamma, '*'*20)\n",
    "    res = []\n",
    "    for metric in metrics:\n",
    "        res.append((all_results[gamma][metric].mean()))\n",
    "    print(res)\n",
    "    print(np.mean(res))"
   ]
  },
  {
   "cell_type": "code",
   "execution_count": null,
   "id": "237dee4b-ecb5-4cfa-bc19-7615a114b8d1",
   "metadata": {},
   "outputs": [],
   "source": []
  }
 ],
 "metadata": {
  "kernelspec": {
   "display_name": "gears",
   "language": "python",
   "name": "gears"
  },
  "language_info": {
   "codemirror_mode": {
    "name": "ipython",
    "version": 3
   },
   "file_extension": ".py",
   "mimetype": "text/x-python",
   "name": "python",
   "nbconvert_exporter": "python",
   "pygments_lexer": "ipython3",
   "version": "3.8.18"
  },
  "toc-autonumbering": true,
  "toc-showtags": false
 },
 "nbformat": 4,
 "nbformat_minor": 5
}
